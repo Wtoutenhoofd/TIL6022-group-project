{
  "cells": [
    {
      "cell_type": "markdown",
      "metadata": {},
      "source": [
        "# 🧭 Dashboard for SAIL 2025 – Short-Term Crowd Predictions\n",
        "\n",
        "This notebook prepares the code and structure for a **Streamlit dashboard** to visualize short-term crowd density forecasts for SAIL 2025."
      ]
    },
    {
      "cell_type": "markdown",
      "metadata": {},
      "source": [
        "## 📝 1. Introductie\n",
        "\n",
        "In dit notebook bouwen we een **Streamlit-dashboard** om korte-termijn crowd density-voorspellingen \n",
        "voor SAIL 2025 te visualiseren.\n",
        "\n",
        "Het dashboard:\n",
        "- Laadt sensordata of demo-data.\n",
        "- Gebruikt simpele voorspellingsmodellen (Persistence, Moving Average, Random Forest).\n",
        "- Visualiseert resultaten op een interactieve kaart en tijdreeks.\n",
        "- Genereert alerts wanneer crowd density boven een drempel komt.\n",
        "\n",
        "We gebruiken:\n",
        "- **Pandas, NumPy** – data handling  \n",
        "- **Plotly** – visualisatie  \n",
        "- **Streamlit** – dashboarding  \n",
        "- **scikit-learn** – eenvoudige ML"
      ]
    },
    {
      "cell_type": "markdown",
      "metadata": {},
      "source": [
        "## ⚙️ 2. Imports & Setup"
      ]
    },
    {
      "cell_type": "code",
      "metadata": {},
      "execution_count": null,
      "outputs": [],
      "source": [
        "import os\n",
        "import json\n",
        "import numpy as np\n",
        "import pandas as pd\n",
        "import plotly.express as px\n",
        "from datetime import datetime, timedelta\n",
        "from sklearn.ensemble import RandomForestRegressor\n",
        "\n",
        "print(\"Pandas:\", pd.__version__)"
      ]
    },
    {
      "cell_type": "markdown",
      "metadata": {},
      "source": [
        "## 📁 3. Data loading functies\n",
        "\n",
        "Hier definiëren we functies om timeseries-data en zones (GeoJSON) te laden.\n",
        "Als de bestanden niet bestaan, wordt automatisch demo-data gegenereerd."
      ]
    },
    {
      "cell_type": "code",
      "metadata": {},
      "execution_count": null,
      "outputs": [],
      "source": [
        "def load_timeseries(path: str) -> pd.DataFrame:\n",
        "    if os.path.exists(path):\n",
        "        df = pd.read_csv(path, parse_dates=['timestamp'])\n",
        "        return df.sort_values(['zone_id', 'timestamp']).reset_index(drop=True)\n",
        "    else:\n",
        "        return generate_demo_timeseries()\n",
        "\n",
        "def load_geojson(path: str) -> dict:\n",
        "    if os.path.exists(path):\n",
        "        with open(path, \"r\", encoding=\"utf-8\") as f:\n",
        "            return json.load(f)\n",
        "    else:\n",
        "        return generate_demo_geojson()\n",
        "\n",
        "def list_zones(df: pd.DataFrame) -> list:\n",
        "    return sorted(df['zone_id'].unique().tolist())"
      ]
    },
    {
      "cell_type": "markdown",
      "metadata": {},
      "source": [
        "## 🧪 4. Demo-data generator\n",
        "\n",
        "Als er geen echte dataset beschikbaar is, maken we een synthetische tijdreeks \n",
        "met pseudo-random densities, weersvariabelen en PT-arrivals."
      ]
    },
    {
      "cell_type": "code",
      "metadata": {},
      "execution_count": null,
      "outputs": [],
      "source": [
        "def generate_demo_timeseries(n_zones: int = 6, days: int = 1, freq=\"5min\") -> pd.DataFrame:\n",
        "    start = pd.Timestamp(datetime(2025, 8, 20, 10, 0))\n",
        "    idx = pd.date_range(start, periods=int((24*60)/5*days), freq=freq)\n",
        "    zone_ids = [f\"Z{i+1}\" for i in range(n_zones)]\n",
        "\n",
        "    rows = []\n",
        "    rng = np.random.default_rng(42)\n",
        "    for z in zone_ids:\n",
        "        base = np.clip(np.sin(np.linspace(0, 3*np.pi, len(idx))) * 20 + 40 + rng.normal(0, 5, len(idx)), 0, 100)\n",
        "        pt = np.abs(np.sin(np.linspace(0, 5*np.pi, len(idx))) * 30 + rng.normal(0, 5, len(idx))).astype(int)\n",
        "        temp = 20 + 5*np.sin(np.linspace(0, 2*np.pi, len(idx))) + rng.normal(0, 0.5, len(idx))\n",
        "        wind = 8 + 2*np.cos(np.linspace(0, 2*np.pi, len(idx))) + rng.normal(0, 0.5, len(idx))\n",
        "        event = (np.sin(np.linspace(0, 6*np.pi, len(idx))) > 0.9).astype(int)\n",
        "        density = np.clip(base + 0.4*pt + 10*event + rng.normal(0, 3, len(idx)), 0, 200)\n",
        "\n",
        "        rows.append(pd.DataFrame({\n",
        "            'timestamp': idx,\n",
        "            'zone_id': z,\n",
        "            'density': density,\n",
        "            'pt_arrivals': pt,\n",
        "            'temp': temp,\n",
        "            'wind': wind,\n",
        "            'special_event': event\n",
        "        }))\n",
        "    return pd.concat(rows, ignore_index=True)"
      ]
    },
    {
      "cell_type": "markdown",
      "metadata": {},
      "source": [
        "## 🌍 5. Demo GeoJSON-generator"
      ]
    },
    {
      "cell_type": "code",
      "metadata": {},
      "execution_count": null,
      "outputs": [],
      "source": [
        "def generate_demo_geojson(n_zones: int = 6) -> dict:\n",
        "    center_lon, center_lat = 4.914, 52.377\n",
        "    features = []\n",
        "    step = 0.01\n",
        "    k = 0\n",
        "    for r in range(2):\n",
        "        for c in range(3):\n",
        "            k += 1\n",
        "            z = f\"Z{k}\"\n",
        "            lon0 = center_lon + (c-1)*step\n",
        "            lat0 = center_lat + (r-0.5)*step\n",
        "            poly = [\n",
        "                [lon0-0.004, lat0-0.003],\n",
        "                [lon0+0.004, lat0-0.003],\n",
        "                [lon0+0.004, lat0+0.003],\n",
        "                [lon0-0.004, lat0+0.003],\n",
        "                [lon0-0.004, lat0-0.003]\n",
        "            ]\n",
        "            features.append({\n",
        "                \"type\": \"Feature\",\n",
        "                \"properties\": {\"zone_id\": z, \"name\": f\"Zone {z}\"},\n",
        "                \"geometry\": {\"type\": \"Polygon\", \"coordinates\": [poly]}\n",
        "            })\n",
        "            if k >= n_zones:\n",
        "                break\n",
        "        if k >= n_zones:\n",
        "            break\n",
        "    return {\"type\": \"FeatureCollection\", \"features\": features}"
      ]
    },
    {
      "cell_type": "markdown",
      "metadata": {},
      "source": [
        "## 🤖 6. Simpele voorspellingsmodellen\n",
        "\n",
        "We gebruiken drie basisbenaderingen:\n",
        "1. **Persistence:** voorspelling = laatste gemeten waarde.  \n",
        "2. **Moving Average:** gemiddelde van de laatste N waarden.  \n",
        "3. **Random Forest:** eenvoudige ML-benadering met lags + covariaten."
      ]
    },
    {
      "cell_type": "code",
      "metadata": {},
      "execution_count": null,
      "outputs": [],
      "source": [
        "def forecast_persistence(df_zone, horizon_steps):\n",
        "    last_val = df_zone['density'].iloc[-1]\n",
        "    return pd.Series([last_val]*horizon_steps)\n",
        "\n",
        "def forecast_moving_avg(df_zone, horizon_steps, window=3):\n",
        "    hist_mean = df_zone['density'].iloc[-window:].mean()\n",
        "    return pd.Series([hist_mean]*horizon_steps)\n",
        "\n",
        "def train_rf_and_predict(df_zone, horizon_steps):\n",
        "    zone = df_zone.copy().reset_index(drop=True)\n",
        "    for lag in [1, 2, 3]:\n",
        "        zone[f\"density_lag{lag}\"] = zone['density'].shift(lag)\n",
        "    zone = zone.dropna().reset_index(drop=True)\n",
        "\n",
        "    feats = ['density_lag1', 'density_lag2', 'density_lag3', 'pt_arrivals', 'temp', 'wind', 'special_event']\n",
        "    X, y = zone[feats], zone['density']\n",
        "\n",
        "    if len(zone) < 20:\n",
        "        return forecast_persistence(df_zone, horizon_steps)\n",
        "\n",
        "    model = RandomForestRegressor(n_estimators=200, random_state=0)\n",
        "    model.fit(X, y)\n",
        "\n",
        "    current_feats = zone.iloc[-1:][feats].values.astype(float)\n",
        "    preds = []\n",
        "    for _ in range(horizon_steps):\n",
        "        yhat = model.predict(current_feats)[0]\n",
        "        preds.append(yhat)\n",
        "        current_feats[0, :3] = [yhat] + list(current_feats[0, :2])\n",
        "    return pd.Series(preds)"
      ]
    },
    {
      "cell_type": "markdown",
      "metadata": {},
      "source": [
        "## 🧱 7. Dashboardlogica (Streamlit)\n",
        "\n",
        "**Let op:** De onderstaande code is bedoeld voor een `streamlit`-app (bijv. in `app/dashboard.py`), \n",
        "en draait niet als interactieve widget in het notebook. Gebruik lokaal:\n",
        "\n",
        "```bash\n",
        "streamlit run app/dashboard.py\n",
        "```\n",
        "\n",
        "Of test de functies hier met demo-data (zonder UI)."
      ]
    },
    {
      "cell_type": "code",
      "metadata": {},
      "execution_count": null,
      "outputs": [],
      "source": [
        "# Test met demo-data (zonder Streamlit UI):\n",
        "data_path = \"data/crowd_timeseries.csv\"\n",
        "geo_path = \"data/zones.geojson\"\n",
        "\n",
        "df = load_timeseries(data_path)\n",
        "gj = load_geojson(geo_path)\n",
        "\n",
        "zones = list_zones(df)\n",
        "zone_sel = zones[0] if zones else None\n",
        "print(\"Beschikbare zones:\", zones)\n",
        "print(\"Geselecteerde zone:\", zone_sel)\n",
        "\n",
        "horizon_min = 15\n",
        "step_minutes = 5\n",
        "horizon_steps = horizon_min // step_minutes\n",
        "\n",
        "df_zone = df[df['zone_id'] == zone_sel].copy()\n",
        "yhat = forecast_moving_avg(df_zone, horizon_steps)\n",
        "\n",
        "future_idx = pd.date_range(df_zone['timestamp'].iloc[-1] + timedelta(minutes=step_minutes),\n",
        "                           periods=horizon_steps, freq=f\"{step_minutes}min\")\n",
        "df_forecast = pd.DataFrame({'timestamp': future_idx, 'zone_id': zone_sel, 'density_pred': yhat})\n",
        "\n",
        "df.head(), df_forecast.head()"
      ]
    },
    {
      "cell_type": "markdown",
      "metadata": {},
      "source": [
        "## 🧩 8. Samenvatting\n",
        "\n",
        "✅ **Wat dit dashboard laat zien:**\n",
        "- Real-time crowd density-voorspellingen per zone.\n",
        "- Interactieve visualisatie van actuele en voorspelde drukte.\n",
        "- Waarschuwingen wanneer de voorspelde drukte boven een drempel komt.\n",
        "\n",
        "📦 **Hoe te gebruiken met Streamlit:**\n",
        "1. Kopieer de model- en helperfuncties uit dit notebook naar `app/dashboard.py` (of importeer ze).\n",
        "2. Voeg eigen data toe in `data/crowd_timeseries.csv` (kolommen: `timestamp, zone_id, density, pt_arrivals, temp, wind, special_event`).\n",
        "3. Voeg een `zones.geojson` toe waarin elke feature `properties.zone_id` bevat.\n",
        "4. Draai lokaal met:\n",
        "   ```bash\n",
        "   streamlit run app/dashboard.py\n",
        "   ```\n",
        "5. (Optioneel) Host op Streamlit Cloud via GitHub."
      ]
    }
  ],
  "metadata": {
    "kernelspec": {
      "display_name": "Python 3",
      "language": "python",
      "name": "python3"
    },
    "language_info": {
      "name": "python",
      "version": "3.x"
    }
  },
  "nbformat": 4,
  "nbformat_minor": 5
}