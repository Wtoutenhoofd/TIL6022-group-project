{
 "cells": [
  {
   "attachments": {},
   "cell_type": "markdown",
   "metadata": {},
   "source": [
    "# Project Group - 2"
   ]
  },
  {
   "attachments": {},
   "cell_type": "markdown",
   "metadata": {},
   "source": [
    "Memebers & Student numbers:  \n",
    " \n",
    "Wessel Toutenhoofd - 4967402  \n",
    "Mats Jager - 5387906  \n",
    "Abel Arts - 5516064  \n",
    "Pieter Ceulen - 5569184  \n",
    "Maria Priimagi - 5292948  \n",
    "Francisco ...   "
   ]
  },
  {
   "attachments": {},
   "cell_type": "markdown",
   "metadata": {},
   "source": [
    "# 1. Introduction\n",
    "Crowd management is an important aspect to ensure safety, efficiency, and a pleasant experience for visitors during large public events. It is an essential element to monitor in order to keep everything running smoothly and to prevent dangerous overcrowding.  \n",
    "\n",
    "With the use of artificial intelligence and machine learning models, it has become possible to predict crowd movement and density over short periods of time. These technologies allow event organisers to anticipate changes in crowd behaviour and respond proactively to potential risks.\n",
    "There are several factors that can influence crowd movement and intensity during an event. These depend mainly on the type of event, its layout, location, and schedule. External factors such as weather conditions can also have a significant impact on crowd dynamics. Therefore, it is important to monitor these variables closely and understand how they affect the safety and flow of visitors.  \n",
    "\n",
    "The SAIL event in Amsterdam is the largest nautical event in the world, attracting millions of visitors over several days. With thousands of ships and activities taking place both on land and on the water, ensuring safe and efficient crowd movement is a critical challenge in such a large-scale urban environment. Accurate and timely crowd predictions are therefore essential to guarantee the safety of visitors and to support effective crowd management.  \n",
    "\n",
    "This study looks at the SAIL 2025 event in Amsterdam and uses its data, with the aim of developing a short-term crowd prediction model (5–15 minutes ahead) to forecast crowd density and movement patterns in the IJhaven and surrounding event areas. In particular, the study focuses on providing actionable insights for proactive crowd management, early-warning of congestion, and improving overall safety and visitor experience during this large-scale urban nautical event.  \n",
    " \n"
   ]
  },
  {
   "attachments": {},
   "cell_type": "markdown",
   "metadata": {},
   "source": [
    "# 2. Research Objective and SMART Criteria"
   ]
  },
  {
   "attachments": {},
   "cell_type": "markdown",
   "metadata": {},
   "source": [
    "## 2.1 Research Objective"
   ]
  },
  {
   "attachments": {},
   "cell_type": "markdown",
   "metadata": {},
   "source": [
    "Main ojective of this study is to design and evaluate a predictive model capable of forecasting crowd densities and movement patterns 5–15 minutes ahead, by integrating real-time crowd sensor data, weather information from KNMI, vehicular traffic flow data, and vessel location data. By specifically focusing at the SAIL 2025 event that took place and using its data, the following research question has been formed:   \n",
    "\n",
    "### \"To what extent can real-time and contextual data be used to accurately predict short-term (5–15 minute) crowd behaviour patterns during SAIL 2025?\"\n",
    "\n",
    "Answering this research question can provide useful insights and information for event organisers and safety authorities, which can help contribute to the development of effective prediction models for the next SAIL event and other similar large-scale public events.\n"
   ]
  },
  {
   "attachments": {},
   "cell_type": "markdown",
   "metadata": {},
   "source": [
    "## 2.2 SMART Criteria"
   ]
  },
  {
   "attachments": {},
   "cell_type": "markdown",
   "metadata": {},
   "source": [
    "Specific: The study focuses on the SAIL 2025 event, making use of collected real-time and contextual data to model and predict crowd behaviour, focusing on one specific location (Amsterdam) and one time period (20-24 of August 2025).  \n",
    "\n",
    "Measurable: Predictions will be compared against real-world observations to accurately assess model performance.  \n",
    "Achievable: SAIL is a well-documented, large-scale event with rich data availability, making it an ideal case study for developing and validating short-term crowd prediction models.  \n",
    "\n",
    "Relevant: SAIL is one of the largest global events. Accurate short-term predictions contribute directly to operational decision-making and risk prevention.  \n",
    "\n",
    "Time-Bound: The study is limited to short-term prediction (5–15 minutes).  \n"
   ]
  },
  {
   "cell_type": "markdown",
   "metadata": {},
   "source": []
  },
  {
   "cell_type": "markdown",
   "metadata": {},
   "source": [
    "# Contribution Statement\n",
    "\n",
    "*Be specific. Some of the tasks can be coding (expect everyone to do this), background research, conceptualisation, visualisation, data analysis, data modelling*"
   ]
  },
  {
   "cell_type": "markdown",
   "metadata": {},
   "source": [
    "**Author 1**:\n",
    "\n",
    "**Author 2**:\n",
    "\n",
    "**Author 3**:"
   ]
  },
  {
   "attachments": {},
   "cell_type": "markdown",
   "metadata": {},
   "source": [
    "# 3. Data used  \n",
    "\n",
    "All data sets used, can be found here: \n",
    "\n",
    "The data sets used have been shared via the TIL6022 course professors.  \n",
    "\n",
    "**Data source 1:** Crowd flow   \n",
    "\n",
    "**Data source 2:**  \n",
    "\n",
    "**Data source 3:** Vessel   \n",
    "\n",
    "**Data source 4:** Weather (KNMI)   \n",
    "\n",
    "\n",
    "\n",
    "\n"
   ]
  },
  {
   "cell_type": "markdown",
   "metadata": {},
   "source": []
  },
  {
   "attachments": {},
   "cell_type": "markdown",
   "metadata": {},
   "source": [
    "# 4. Data Pipeline"
   ]
  },
  {
   "attachments": {},
   "cell_type": "markdown",
   "metadata": {},
   "source": [
    "Short intro/summary: "
   ]
  },
  {
   "attachments": {},
   "cell_type": "markdown",
   "metadata": {},
   "source": [
    "### Data files\n",
    "\n",
    "- **Data file 1:**\n",
    "- **Data file 2:**\n",
    "- **Data file 3:** "
   ]
  },
  {
   "attachments": {},
   "cell_type": "markdown",
   "metadata": {},
   "source": [
    "### Notebook Sections \n",
    "\n",
    "**1. Data Processing:**\n",
    "\n",
    "**2. Graphical Visualization:**"
   ]
  },
  {
   "attachments": {},
   "cell_type": "markdown",
   "metadata": {},
   "source": [
    "# 5. Sub-Research Questions\n",
    "\n",
    "In order to answer the main research question and gain deeper insights into the topic, the following sub-research questions have been formulated:\n",
    "\n",
    "\n",
    "- 1. How can crowd surges be predicted in real time?  \n",
    "\n",
    "\n",
    "- 2. What methods can be used to quantify uncertainty in short-term predictions?  \n",
    "\n",
    "\n",
    "- 3. Which input features (public transport arrivals, time-of-day, weather, event schedule) contribute most to prediction accuracy?  \n",
    "\n",
    "\n",
    "- 4. How can these predictions be effectively visualised for use in crowd management dashboards?   \n",
    "\n",
    "\n",
    "- 5. How can AI be used to monitor crowd movements, predict bottlenecks and risks, and provide decision support?  \n"
   ]
  },
  {
   "attachments": {},
   "cell_type": "markdown",
   "metadata": {},
   "source": [
    "# 6. Graphical Visualizations"
   ]
  },
  {
   "attachments": {},
   "cell_type": "markdown",
   "metadata": {},
   "source": [
    "# 7. Conclusion \n",
    "\n",
    "**\"To what extent can real-time and contextual data be used to accurately predict short-term (5–15 minute) crowd behaviour patterns during SAIL 2025?\"**"
   ]
  },
  {
   "attachments": {},
   "cell_type": "markdown",
   "metadata": {},
   "source": [
    "\n",
    "\n"
   ]
  },
  {
   "attachments": {},
   "cell_type": "markdown",
   "metadata": {},
   "source": [
    "# 8. Limitations and further research"
   ]
  },
  {
   "attachments": {},
   "cell_type": "markdown",
   "metadata": {},
   "source": [
    "# 9. Literature"
   ]
  },
  {
   "cell_type": "markdown",
   "metadata": {},
   "source": []
  }
 ],
 "metadata": {
  "kernelspec": {
   "display_name": "base",
   "language": "python",
   "name": "python3"
  },
  "language_info": {
   "codemirror_mode": {
    "name": "ipython",
    "version": 3
   },
   "file_extension": ".py",
   "mimetype": "text/x-python",
   "name": "python",
   "nbconvert_exporter": "python",
   "pygments_lexer": "ipython3",
   "version": "3.10.8"
  },
  "orig_nbformat": 4,
  "vscode": {
   "interpreter": {
    "hash": "33ce1484a08e461ced66908137b95326b7f2bfea3b661181fcc1641c97ce2a7b"
   }
  }
 },
 "nbformat": 4,
 "nbformat_minor": 2
}
