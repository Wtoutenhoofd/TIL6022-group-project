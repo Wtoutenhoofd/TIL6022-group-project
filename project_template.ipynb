{
 "cells": [
  {
   "attachments": {},
   "cell_type": "markdown",
   "metadata": {},
   "source": [
    "# Project Group - 2"
   ]
  },
  {
   "attachments": {},
   "cell_type": "markdown",
   "metadata": {},
   "source": [
    "Memebers & Student numbers:  \n",
    " \n",
    "Wessel Toutenhoofd - 4967402  \n",
    "Mats Jager - 5387906  \n",
    "Abel Arts - 5516064  \n",
    "Pieter Ceulen - 5569184  \n",
    "Maria Priimagi - 5292948  \n",
    "Francisco ...   "
   ]
  },
  {
   "attachments": {},
   "cell_type": "markdown",
   "metadata": {},
   "source": [
    "# 1. Introduction\n",
    "The SAIL event in Amsterdam is the largest nautical event in the world, attracting millions of visitors over several days. Ensuring safe and efficient crowd movement is a critical challenge in such large-scale urban events.\n",
    "Our project aims to build a short-term prediction system for crowd density and flows in the IJhaven and surrounding event areas to prevent overcrowding. This will serve as an early-warning tool to prevent congestion, improve safety, and optimise crowd management decisions.\n"
   ]
  },
  {
   "attachments": {},
   "cell_type": "markdown",
   "metadata": {},
   "source": [
    "# 2. Research Objective and Research Question"
   ]
  },
  {
   "attachments": {},
   "cell_type": "markdown",
   "metadata": {},
   "source": [
    "Main research ojective: To design and evaluate a predictive model capable of forecasting crowd densities and movement patterns 5–15 minutes ahead by integrating real-time crowd sensor data, weather information from KNMI, vehicular traffic flow data, and vessel location data.  \n",
    "\n",
    "Sub-objectives:  \n",
    "\n",
    "Main Research Question: \n",
    "\n",
    "Sub-Research Questions:"
   ]
  },
  {
   "cell_type": "markdown",
   "metadata": {},
   "source": []
  },
  {
   "cell_type": "markdown",
   "metadata": {},
   "source": [
    "# Contribution Statement\n",
    "\n",
    "*Be specific. Some of the tasks can be coding (expect everyone to do this), background research, conceptualisation, visualisation, data analysis, data modelling*"
   ]
  },
  {
   "cell_type": "markdown",
   "metadata": {},
   "source": [
    "**Author 1**:\n",
    "\n",
    "**Author 2**:\n",
    "\n",
    "**Author 3**:"
   ]
  },
  {
   "attachments": {},
   "cell_type": "markdown",
   "metadata": {},
   "source": [
    "# 3. Data used  \n",
    "\n",
    "All data sets used, have been shared via the TIL6022 course professors.  \n",
    "\n",
    "Data source 1: Crowd flow   \n",
    "\n",
    "Data source 2:  \n",
    "\n",
    "Data source 3: Vessel   \n",
    "\n",
    "Data source 4: Weather (KNMI)   \n",
    "\n",
    "\n",
    "\n",
    "\n"
   ]
  },
  {
   "cell_type": "markdown",
   "metadata": {},
   "source": []
  },
  {
   "attachments": {},
   "cell_type": "markdown",
   "metadata": {},
   "source": [
    "# 4. Data Pipeline"
   ]
  },
  {
   "cell_type": "markdown",
   "metadata": {},
   "source": []
  },
  {
   "attachments": {},
   "cell_type": "markdown",
   "metadata": {},
   "source": [
    "# 5. Graphical Visualizations"
   ]
  },
  {
   "attachments": {},
   "cell_type": "markdown",
   "metadata": {},
   "source": [
    "# 6. Conclusion "
   ]
  },
  {
   "attachments": {},
   "cell_type": "markdown",
   "metadata": {},
   "source": [
    "*Instert RQ*\n",
    "\n"
   ]
  },
  {
   "attachments": {},
   "cell_type": "markdown",
   "metadata": {},
   "source": [
    "# 7. Limitations and further research"
   ]
  },
  {
   "attachments": {},
   "cell_type": "markdown",
   "metadata": {},
   "source": [
    "# 8. Literature"
   ]
  },
  {
   "cell_type": "markdown",
   "metadata": {},
   "source": []
  }
 ],
 "metadata": {
  "kernelspec": {
   "display_name": "base",
   "language": "python",
   "name": "python3"
  },
  "language_info": {
   "codemirror_mode": {
    "name": "ipython",
    "version": 3
   },
   "file_extension": ".py",
   "mimetype": "text/x-python",
   "name": "python",
   "nbconvert_exporter": "python",
   "pygments_lexer": "ipython3",
   "version": "3.10.8"
  },
  "orig_nbformat": 4,
  "vscode": {
   "interpreter": {
    "hash": "33ce1484a08e461ced66908137b95326b7f2bfea3b661181fcc1641c97ce2a7b"
   }
  }
 },
 "nbformat": 4,
 "nbformat_minor": 2
}
