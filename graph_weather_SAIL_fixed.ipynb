{
 "cells": [
  {
   "cell_type": "markdown",
   "metadata": {},
   "source": [
    "# SAIL Amsterdam Weather Data Visualization\n",
    "This notebook visualizes temperature, humidity, and rainfall data from August 20-24, 2025"
   ]
  },
  {
   "cell_type": "code",
   "execution_count": null,
   "metadata": {},
   "outputs": [],
   "source": [
    "import pandas as pd\n",
    "import matplotlib.pyplot as plt\n",
    "from datetime import datetime, timedelta"
   ]
  },
  {
   "cell_type": "code",
   "execution_count": null,
   "metadata": {},
   "outputs": [],
   "source": [
    "# Load the weather data\n",
    "df = pd.read_csv('SAIL_Amsterdam_10min_Weather_2025-08-20_to_2025-08-24.csv')\n",
    "\n",
    "# Fix invalid time values (24:00 -> 00:00 next day)\n",
    "def fix_datetime(dt_str):\n",
    "    date_str, time_str = dt_str.split()\n",
    "    hour, minute = time_str.split(':')\n",
    "    \n",
    "    if hour == '24':\n",
    "        # Convert to next day at 00:00\n",
    "        dt = pd.to_datetime(date_str, format='%Y%m%d')\n",
    "        dt = dt + timedelta(days=1)\n",
    "        return dt.strftime('%Y%m%d') + ' 00:' + minute\n",
    "    return dt_str\n",
    "\n",
    "# Apply the fix\n",
    "df['DateTime'] = df['DateTime'].apply(fix_datetime)\n",
    "\n",
    "# Convert DateTime column to proper datetime format\n",
    "df['DateTime'] = pd.to_datetime(df['DateTime'], format='%Y%m%d %H:%M')\n",
    "\n",
    "print(f\"Data loaded: {len(df)} records from {df['DateTime'].min()} to {df['DateTime'].max()}\")\n",
    "df.head()"
   ]
  },
  {
   "cell_type": "code",
   "execution_count": null,
   "metadata": {},
   "outputs": [],
   "source": [
    "# Create figure with subplots for each weather parameter\n",
    "fig, axes = plt.subplots(3, 1, figsize=(14, 10))\n",
    "fig.suptitle('SAIL Amsterdam Weather Data (Aug 20-24, 2025)', fontsize=16, fontweight='bold')\n",
    "\n",
    "# Plot 1: Temperature\n",
    "axes[0].plot(df['DateTime'], df['Temperature_°C'], color='red', linewidth=1.5)\n",
    "axes[0].set_ylabel('Temperature (°C)', fontsize=12)\n",
    "axes[0].set_title('Temperature over Time')\n",
    "axes[0].grid(True, alpha=0.3)\n",
    "axes[0].tick_params(axis='x', rotation=45)\n",
    "\n",
    "# Plot 2: Humidity\n",
    "axes[1].plot(df['DateTime'], df['Humidity_%'], color='blue', linewidth=1.5)\n",
    "axes[1].set_ylabel('Humidity (%)', fontsize=12)\n",
    "axes[1].set_title('Humidity over Time')\n",
    "axes[1].grid(True, alpha=0.3)\n",
    "axes[1].tick_params(axis='x', rotation=45)\n",
    "\n",
    "# Plot 3: Rain\n",
    "axes[2].plot(df['DateTime'], df['Rain_mm'], color='green', linewidth=1.5)\n",
    "axes[2].set_xlabel('Date and Time', fontsize=12)\n",
    "axes[2].set_ylabel('Rain (mm)', fontsize=12)\n",
    "axes[2].set_title('Rainfall over Time')\n",
    "axes[2].grid(True, alpha=0.3)\n",
    "axes[2].tick_params(axis='x', rotation=45)\n",
    "\n",
    "# Adjust layout to prevent overlap\n",
    "plt.tight_layout()\n",
    "\n",
    "# Save the figure\n",
    "plt.savefig('weather_data_graphs.png', dpi=300, bbox_inches='tight')\n",
    "print(\"Graph saved as 'weather_data_graphs.png'\")\n",
    "\n",
    "# Show the plot\n",
    "plt.show()"
   ]
  },
  {
   "cell_type": "code",
   "execution_count": null,
   "metadata": {},
   "outputs": [],
   "source": [
    "# Summary statistics\n",
    "print(\"=== Weather Data Summary ===\")\n",
    "print(f\"\\nTemperature (°C):\")\n",
    "print(f\"  Min: {df['Temperature_°C'].min():.1f}°C\")\n",
    "print(f\"  Max: {df['Temperature_°C'].max():.1f}°C\")\n",
    "print(f\"  Mean: {df['Temperature_°C'].mean():.1f}°C\")\n",
    "\n",
    "print(f\"\\nHumidity (%):\")\n",
    "print(f\"  Min: {df['Humidity_%'].min():.1f}%\")\n",
    "print(f\"  Max: {df['Humidity_%'].max():.1f}%\")\n",
    "print(f\"  Mean: {df['Humidity_%'].mean():.1f}%\")\n",
    "\n",
    "print(f\"\\nRainfall (mm):\")\n",
    "print(f\"  Total: {df['Rain_mm'].sum():.2f} mm\")\n",
    "print(f\"  Max (10-min): {df['Rain_mm'].max():.2f} mm\")\n",
    "print(f\"  Rain events: {(df['Rain_mm'] > 0).sum()} (out of {len(df)} measurements)\")"
   ]
  },
  {
   "cell_type": "code",
   "execution_count": null,
   "metadata": {},
   "outputs": [],
   "source": [
    "# Optional: Create a combined view on single plot\n",
    "fig, ax1 = plt.subplots(figsize=(14, 6))\n",
    "\n",
    "# Temperature on left y-axis\n",
    "color = 'tab:red'\n",
    "ax1.set_xlabel('Date and Time', fontsize=12)\n",
    "ax1.set_ylabel('Temperature (°C)', color=color, fontsize=12)\n",
    "ax1.plot(df['DateTime'], df['Temperature_°C'], color=color, linewidth=2, label='Temperature')\n",
    "ax1.tick_params(axis='y', labelcolor=color)\n",
    "ax1.tick_params(axis='x', rotation=45)\n",
    "\n",
    "# Humidity on right y-axis\n",
    "ax2 = ax1.twinx()\n",
    "color = 'tab:blue'\n",
    "ax2.set_ylabel('Humidity (%)', color=color, fontsize=12)\n",
    "ax2.plot(df['DateTime'], df['Humidity_%'], color=color, linewidth=2, alpha=0.7, label='Humidity')\n",
    "ax2.tick_params(axis='y', labelcolor=color)\n",
    "\n",
    "plt.title('Temperature and Humidity - Combined View', fontsize=14, fontweight='bold')\n",
    "plt.grid(True, alpha=0.3)\n",
    "plt.tight_layout()\n",
    "plt.show()"
   ]
  }
 ],
 "metadata": {
  "kernelspec": {
   "display_name": "base",
   "language": "python",
   "name": "python3"
  },
  "language_info": {
   "codemirror_mode": {
    "name": "ipython",
    "version": 3
   },
   "file_extension": ".py",
   "mimetype": "text/x-python",
   "name": "python",
   "nbconvert_exporter": "python",
   "pygments_lexer": "ipython3",
   "version": "3.13.5"
  }
 },
 "nbformat": 4,
 "nbformat_minor": 4
}
