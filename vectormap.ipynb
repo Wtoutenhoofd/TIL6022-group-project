{
 "cells": [
  {
   "cell_type": "code",
   "execution_count": null,
   "id": "76c89430",
   "metadata": {},
   "outputs": [],
   "source": [
    "import pandas as pd\n",
    "import json\n",
    "import plotly.express as px\n",
    "from urllib.request import urlopen\n",
    "\n",
    "#Load map of Amsterdam\n",
    "GEOJSON_URL = \"https://maps.amsterdam.nl/open_geodata/geojson_lnglat.php?KAARTLAAG=INDELING_STADSDEEL&THEMA=gebiedsindeling\"\n",
    "with urlopen(GEOJSON_URL) as response:\n",
    "    stadsdelen = json.load(response)"
   ]
  },
  {
   "cell_type": "code",
   "execution_count": null,
   "id": "66cfd762",
   "metadata": {},
   "outputs": [],
   "source": [
    "# --- Sensorlocaties ---\n",
    "df = pd.read_csv(\"sensor-location.xlsx - Sheet1.csv\")\n",
    "df[[\"Lat\", \"Long\"]] = df[\"Lat/Long\"].str.split(\",\", expand=True)\n",
    "df[\"Lat\"]  = pd.to_numeric(df[\"Lat\"].astype(str).str.strip(),  errors=\"coerce\")\n",
    "df[\"Long\"] = pd.to_numeric(df[\"Long\"].astype(str).str.strip(), errors=\"coerce\")\n",
    "\n",
    "#Some sensors don't have \"Breedte\", so it gives \"Effectieve breedte\"\n",
    "for col in [\"Breedte\", \"Effectieve breedte\"]:\n",
    "    if col in df.columns:\n",
    "        df[col] = df[col].fillna(\"Effectieve breedte\")\n",
    "\n",
    "#----Predicted data ----\n",
    "cs = pd.read_csv(\"predicted_sensor_values_3min.csv\", parse_dates=[\"timestamp\"]) #use real time \n",
    "cs = cs.sort_values(\"timestamp\") #sort on time"
   ]
  },
  {
   "cell_type": "code",
   "execution_count": null,
   "id": "0baa53b6",
   "metadata": {},
   "outputs": [],
   "source": [
    "#only predicted, remove actual sensors  \n",
    "\n",
    "\n",
    "\n",
    "\n",
    "#only actual values "
   ]
  },
  {
   "cell_type": "code",
   "execution_count": null,
   "id": "b16b6e0d",
   "metadata": {},
   "outputs": [],
   "source": []
  },
  {
   "cell_type": "code",
   "execution_count": null,
   "id": "e42a130c",
   "metadata": {},
   "outputs": [],
   "source": [
    "#angle toevoegen "
   ]
  },
  {
   "cell_type": "code",
   "execution_count": null,
   "id": "96c963da",
   "metadata": {},
   "outputs": [],
   "source": []
  },
  {
   "cell_type": "code",
   "execution_count": null,
   "id": "14cb7e26",
   "metadata": {},
   "outputs": [],
   "source": []
  }
 ],
 "metadata": {
  "kernelspec": {
   "display_name": "TIL6022-25",
   "language": "python",
   "name": "python3"
  },
  "language_info": {
   "codemirror_mode": {
    "name": "ipython",
    "version": 3
   },
   "file_extension": ".py",
   "mimetype": "text/x-python",
   "name": "python",
   "nbconvert_exporter": "python",
   "pygments_lexer": "ipython3",
   "version": "3.13.7"
  }
 },
 "nbformat": 4,
 "nbformat_minor": 5
}
