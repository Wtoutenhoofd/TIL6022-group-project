{
 "cells": [
  {
   "cell_type": "code",
   "execution_count": 2,
   "id": "b751ce16",
   "metadata": {},
   "outputs": [
    {
     "name": "stderr",
     "output_type": "stream",
     "text": [
      "C:\\Users\\matsj\\AppData\\Local\\Temp\\ipykernel_12672\\2761830273.py:28: DeprecationWarning:\n",
      "\n",
      "*density_mapbox* is deprecated! Use *density_map* instead. Learn more at: https://plotly.com/python/mapbox-to-maplibre/\n",
      "\n"
     ]
    },
    {
     "data": {
      "application/vnd.plotly.v1+json": {
       "config": {
        "plotlyServerURL": "https://plot.ly"
       },
       "data": [
        {
         "coloraxis": "coloraxis",
         "hovertemplate": "Persons=%{z}<br>Lat=%{lat}<br>Long=%{lon}<extra></extra>",
         "lat": {
          "bdata": "V7CNeLIvSkB4R8Zq8y9KQCuk/KTaL0pAomDGFKwvSkAZ6NoX0C9KQNsTJLa7L0pAdck4RrIvSkDMRBFSty9KQPqa5bLRL0pA3EYDeAswSkBdM/lmmy9KQCWQEru2L0pAwFq1a0IwSkDEBaBRujBKQBr8/WK2MEpAaM2Pv7QwSkDFVzuKczBKQMVXO4pzMEpA3soSnWUwSkB7Lei9MTJKQLMKmwEuMkpAEJVGzOwvSkDs3R/vVTNKQLTHC+nwMEpAw0Xu6eowSkDxnZj1YjBKQLHh6ZWyMEpARl9BmrEwSkAprir7rjBKQFSp2QOtMEpAjXqIRncwSkC4dTdPdTBKQGMoJ9pVMEpADvj8MEIwSkAnZr0YyjFKQAvSjEXTMUpA",
          "dtype": "f8"
         },
         "lon": {
          "bdata": "DtdqD3uRE0C21hcJbZkTQA74/DBCmBNAcOoDyTuXE0A8hPHTuJcTQDEnaJPDlxNAe8A8ZMqXE0Dk9ssnK5YTQAzNdRppmRNAnkFD/wSXE0C+MJkqGJUTQDT4+8VsmRNAjINLx5yXE0B0DTM0npgTQH5S7dPxmBNAUd7H0RyZE0CgbTXrjJ8TQKBtNeuMnxNAEaYol8a/E0AaNV8lH4sTQLNeDOVEixNAoN/3b17ME0DAzeLFwpATQBcP7zmwnBNAsMka9RCdE0AdyeU/pL8TQAsMWd3qmRNAtvgUAOOZE0C2EOSghJkTQO84RUdymRNAAyZw626eE0BY/+cwX54TQNtQMc7fpBNAsCDNWDSdE0CSrpl8s60TQMxAZfz7rBNA",
          "dtype": "f8"
         },
         "name": "",
         "opacity": 0.7,
         "radius": 60,
         "subplot": "mapbox",
         "type": "densitymapbox",
         "z": {
          "bdata": "EQCaAIIAVwBWAKsAEQCLACgAEgBpAMMAkwCYAI8AnQBmABkApwBaAGQASgAkALkAnACAAFAApABtAFgAWgAtABIAbgCxAAwA",
          "dtype": "i2"
         }
        }
       ],
       "layout": {
        "coloraxis": {
         "colorbar": {
          "title": {
           "text": "Persons"
          }
         },
         "colorscale": [
          [
           0,
           "rgb(255,255,204)"
          ],
          [
           0.125,
           "rgb(255,237,160)"
          ],
          [
           0.25,
           "rgb(254,217,118)"
          ],
          [
           0.375,
           "rgb(254,178,76)"
          ],
          [
           0.5,
           "rgb(253,141,60)"
          ],
          [
           0.625,
           "rgb(252,78,42)"
          ],
          [
           0.75,
           "rgb(227,26,28)"
          ],
          [
           0.875,
           "rgb(189,0,38)"
          ],
          [
           1,
           "rgb(128,0,38)"
          ]
         ]
        },
        "height": 700,
        "legend": {
         "tracegroupgap": 0
        },
        "mapbox": {
         "center": {
          "lat": 52.372,
          "lon": 4.9
         },
         "domain": {
          "x": [
           0,
           1
          ],
          "y": [
           0,
           1
          ]
         },
         "style": "carto-positron",
         "zoom": 10
        },
        "margin": {
         "b": 0,
         "l": 0,
         "r": 0,
         "t": 0
        },
        "template": {
         "data": {
          "bar": [
           {
            "error_x": {
             "color": "#2a3f5f"
            },
            "error_y": {
             "color": "#2a3f5f"
            },
            "marker": {
             "line": {
              "color": "#E5ECF6",
              "width": 0.5
             },
             "pattern": {
              "fillmode": "overlay",
              "size": 10,
              "solidity": 0.2
             }
            },
            "type": "bar"
           }
          ],
          "barpolar": [
           {
            "marker": {
             "line": {
              "color": "#E5ECF6",
              "width": 0.5
             },
             "pattern": {
              "fillmode": "overlay",
              "size": 10,
              "solidity": 0.2
             }
            },
            "type": "barpolar"
           }
          ],
          "carpet": [
           {
            "aaxis": {
             "endlinecolor": "#2a3f5f",
             "gridcolor": "white",
             "linecolor": "white",
             "minorgridcolor": "white",
             "startlinecolor": "#2a3f5f"
            },
            "baxis": {
             "endlinecolor": "#2a3f5f",
             "gridcolor": "white",
             "linecolor": "white",
             "minorgridcolor": "white",
             "startlinecolor": "#2a3f5f"
            },
            "type": "carpet"
           }
          ],
          "choropleth": [
           {
            "colorbar": {
             "outlinewidth": 0,
             "ticks": ""
            },
            "type": "choropleth"
           }
          ],
          "contour": [
           {
            "colorbar": {
             "outlinewidth": 0,
             "ticks": ""
            },
            "colorscale": [
             [
              0,
              "#0d0887"
             ],
             [
              0.1111111111111111,
              "#46039f"
             ],
             [
              0.2222222222222222,
              "#7201a8"
             ],
             [
              0.3333333333333333,
              "#9c179e"
             ],
             [
              0.4444444444444444,
              "#bd3786"
             ],
             [
              0.5555555555555556,
              "#d8576b"
             ],
             [
              0.6666666666666666,
              "#ed7953"
             ],
             [
              0.7777777777777778,
              "#fb9f3a"
             ],
             [
              0.8888888888888888,
              "#fdca26"
             ],
             [
              1,
              "#f0f921"
             ]
            ],
            "type": "contour"
           }
          ],
          "contourcarpet": [
           {
            "colorbar": {
             "outlinewidth": 0,
             "ticks": ""
            },
            "type": "contourcarpet"
           }
          ],
          "heatmap": [
           {
            "colorbar": {
             "outlinewidth": 0,
             "ticks": ""
            },
            "colorscale": [
             [
              0,
              "#0d0887"
             ],
             [
              0.1111111111111111,
              "#46039f"
             ],
             [
              0.2222222222222222,
              "#7201a8"
             ],
             [
              0.3333333333333333,
              "#9c179e"
             ],
             [
              0.4444444444444444,
              "#bd3786"
             ],
             [
              0.5555555555555556,
              "#d8576b"
             ],
             [
              0.6666666666666666,
              "#ed7953"
             ],
             [
              0.7777777777777778,
              "#fb9f3a"
             ],
             [
              0.8888888888888888,
              "#fdca26"
             ],
             [
              1,
              "#f0f921"
             ]
            ],
            "type": "heatmap"
           }
          ],
          "histogram": [
           {
            "marker": {
             "pattern": {
              "fillmode": "overlay",
              "size": 10,
              "solidity": 0.2
             }
            },
            "type": "histogram"
           }
          ],
          "histogram2d": [
           {
            "colorbar": {
             "outlinewidth": 0,
             "ticks": ""
            },
            "colorscale": [
             [
              0,
              "#0d0887"
             ],
             [
              0.1111111111111111,
              "#46039f"
             ],
             [
              0.2222222222222222,
              "#7201a8"
             ],
             [
              0.3333333333333333,
              "#9c179e"
             ],
             [
              0.4444444444444444,
              "#bd3786"
             ],
             [
              0.5555555555555556,
              "#d8576b"
             ],
             [
              0.6666666666666666,
              "#ed7953"
             ],
             [
              0.7777777777777778,
              "#fb9f3a"
             ],
             [
              0.8888888888888888,
              "#fdca26"
             ],
             [
              1,
              "#f0f921"
             ]
            ],
            "type": "histogram2d"
           }
          ],
          "histogram2dcontour": [
           {
            "colorbar": {
             "outlinewidth": 0,
             "ticks": ""
            },
            "colorscale": [
             [
              0,
              "#0d0887"
             ],
             [
              0.1111111111111111,
              "#46039f"
             ],
             [
              0.2222222222222222,
              "#7201a8"
             ],
             [
              0.3333333333333333,
              "#9c179e"
             ],
             [
              0.4444444444444444,
              "#bd3786"
             ],
             [
              0.5555555555555556,
              "#d8576b"
             ],
             [
              0.6666666666666666,
              "#ed7953"
             ],
             [
              0.7777777777777778,
              "#fb9f3a"
             ],
             [
              0.8888888888888888,
              "#fdca26"
             ],
             [
              1,
              "#f0f921"
             ]
            ],
            "type": "histogram2dcontour"
           }
          ],
          "mesh3d": [
           {
            "colorbar": {
             "outlinewidth": 0,
             "ticks": ""
            },
            "type": "mesh3d"
           }
          ],
          "parcoords": [
           {
            "line": {
             "colorbar": {
              "outlinewidth": 0,
              "ticks": ""
             }
            },
            "type": "parcoords"
           }
          ],
          "pie": [
           {
            "automargin": true,
            "type": "pie"
           }
          ],
          "scatter": [
           {
            "fillpattern": {
             "fillmode": "overlay",
             "size": 10,
             "solidity": 0.2
            },
            "type": "scatter"
           }
          ],
          "scatter3d": [
           {
            "line": {
             "colorbar": {
              "outlinewidth": 0,
              "ticks": ""
             }
            },
            "marker": {
             "colorbar": {
              "outlinewidth": 0,
              "ticks": ""
             }
            },
            "type": "scatter3d"
           }
          ],
          "scattercarpet": [
           {
            "marker": {
             "colorbar": {
              "outlinewidth": 0,
              "ticks": ""
             }
            },
            "type": "scattercarpet"
           }
          ],
          "scattergeo": [
           {
            "marker": {
             "colorbar": {
              "outlinewidth": 0,
              "ticks": ""
             }
            },
            "type": "scattergeo"
           }
          ],
          "scattergl": [
           {
            "marker": {
             "colorbar": {
              "outlinewidth": 0,
              "ticks": ""
             }
            },
            "type": "scattergl"
           }
          ],
          "scattermap": [
           {
            "marker": {
             "colorbar": {
              "outlinewidth": 0,
              "ticks": ""
             }
            },
            "type": "scattermap"
           }
          ],
          "scattermapbox": [
           {
            "marker": {
             "colorbar": {
              "outlinewidth": 0,
              "ticks": ""
             }
            },
            "type": "scattermapbox"
           }
          ],
          "scatterpolar": [
           {
            "marker": {
             "colorbar": {
              "outlinewidth": 0,
              "ticks": ""
             }
            },
            "type": "scatterpolar"
           }
          ],
          "scatterpolargl": [
           {
            "marker": {
             "colorbar": {
              "outlinewidth": 0,
              "ticks": ""
             }
            },
            "type": "scatterpolargl"
           }
          ],
          "scatterternary": [
           {
            "marker": {
             "colorbar": {
              "outlinewidth": 0,
              "ticks": ""
             }
            },
            "type": "scatterternary"
           }
          ],
          "surface": [
           {
            "colorbar": {
             "outlinewidth": 0,
             "ticks": ""
            },
            "colorscale": [
             [
              0,
              "#0d0887"
             ],
             [
              0.1111111111111111,
              "#46039f"
             ],
             [
              0.2222222222222222,
              "#7201a8"
             ],
             [
              0.3333333333333333,
              "#9c179e"
             ],
             [
              0.4444444444444444,
              "#bd3786"
             ],
             [
              0.5555555555555556,
              "#d8576b"
             ],
             [
              0.6666666666666666,
              "#ed7953"
             ],
             [
              0.7777777777777778,
              "#fb9f3a"
             ],
             [
              0.8888888888888888,
              "#fdca26"
             ],
             [
              1,
              "#f0f921"
             ]
            ],
            "type": "surface"
           }
          ],
          "table": [
           {
            "cells": {
             "fill": {
              "color": "#EBF0F8"
             },
             "line": {
              "color": "white"
             }
            },
            "header": {
             "fill": {
              "color": "#C8D4E3"
             },
             "line": {
              "color": "white"
             }
            },
            "type": "table"
           }
          ]
         },
         "layout": {
          "annotationdefaults": {
           "arrowcolor": "#2a3f5f",
           "arrowhead": 0,
           "arrowwidth": 1
          },
          "autotypenumbers": "strict",
          "coloraxis": {
           "colorbar": {
            "outlinewidth": 0,
            "ticks": ""
           }
          },
          "colorscale": {
           "diverging": [
            [
             0,
             "#8e0152"
            ],
            [
             0.1,
             "#c51b7d"
            ],
            [
             0.2,
             "#de77ae"
            ],
            [
             0.3,
             "#f1b6da"
            ],
            [
             0.4,
             "#fde0ef"
            ],
            [
             0.5,
             "#f7f7f7"
            ],
            [
             0.6,
             "#e6f5d0"
            ],
            [
             0.7,
             "#b8e186"
            ],
            [
             0.8,
             "#7fbc41"
            ],
            [
             0.9,
             "#4d9221"
            ],
            [
             1,
             "#276419"
            ]
           ],
           "sequential": [
            [
             0,
             "#0d0887"
            ],
            [
             0.1111111111111111,
             "#46039f"
            ],
            [
             0.2222222222222222,
             "#7201a8"
            ],
            [
             0.3333333333333333,
             "#9c179e"
            ],
            [
             0.4444444444444444,
             "#bd3786"
            ],
            [
             0.5555555555555556,
             "#d8576b"
            ],
            [
             0.6666666666666666,
             "#ed7953"
            ],
            [
             0.7777777777777778,
             "#fb9f3a"
            ],
            [
             0.8888888888888888,
             "#fdca26"
            ],
            [
             1,
             "#f0f921"
            ]
           ],
           "sequentialminus": [
            [
             0,
             "#0d0887"
            ],
            [
             0.1111111111111111,
             "#46039f"
            ],
            [
             0.2222222222222222,
             "#7201a8"
            ],
            [
             0.3333333333333333,
             "#9c179e"
            ],
            [
             0.4444444444444444,
             "#bd3786"
            ],
            [
             0.5555555555555556,
             "#d8576b"
            ],
            [
             0.6666666666666666,
             "#ed7953"
            ],
            [
             0.7777777777777778,
             "#fb9f3a"
            ],
            [
             0.8888888888888888,
             "#fdca26"
            ],
            [
             1,
             "#f0f921"
            ]
           ]
          },
          "colorway": [
           "#636efa",
           "#EF553B",
           "#00cc96",
           "#ab63fa",
           "#FFA15A",
           "#19d3f3",
           "#FF6692",
           "#B6E880",
           "#FF97FF",
           "#FECB52"
          ],
          "font": {
           "color": "#2a3f5f"
          },
          "geo": {
           "bgcolor": "white",
           "lakecolor": "white",
           "landcolor": "#E5ECF6",
           "showlakes": true,
           "showland": true,
           "subunitcolor": "white"
          },
          "hoverlabel": {
           "align": "left"
          },
          "hovermode": "closest",
          "mapbox": {
           "style": "light"
          },
          "paper_bgcolor": "white",
          "plot_bgcolor": "#E5ECF6",
          "polar": {
           "angularaxis": {
            "gridcolor": "white",
            "linecolor": "white",
            "ticks": ""
           },
           "bgcolor": "#E5ECF6",
           "radialaxis": {
            "gridcolor": "white",
            "linecolor": "white",
            "ticks": ""
           }
          },
          "scene": {
           "xaxis": {
            "backgroundcolor": "#E5ECF6",
            "gridcolor": "white",
            "gridwidth": 2,
            "linecolor": "white",
            "showbackground": true,
            "ticks": "",
            "zerolinecolor": "white"
           },
           "yaxis": {
            "backgroundcolor": "#E5ECF6",
            "gridcolor": "white",
            "gridwidth": 2,
            "linecolor": "white",
            "showbackground": true,
            "ticks": "",
            "zerolinecolor": "white"
           },
           "zaxis": {
            "backgroundcolor": "#E5ECF6",
            "gridcolor": "white",
            "gridwidth": 2,
            "linecolor": "white",
            "showbackground": true,
            "ticks": "",
            "zerolinecolor": "white"
           }
          },
          "shapedefaults": {
           "line": {
            "color": "#2a3f5f"
           }
          },
          "ternary": {
           "aaxis": {
            "gridcolor": "white",
            "linecolor": "white",
            "ticks": ""
           },
           "baxis": {
            "gridcolor": "white",
            "linecolor": "white",
            "ticks": ""
           },
           "bgcolor": "#E5ECF6",
           "caxis": {
            "gridcolor": "white",
            "linecolor": "white",
            "ticks": ""
           }
          },
          "title": {
           "x": 0.05
          },
          "xaxis": {
           "automargin": true,
           "gridcolor": "white",
           "linecolor": "white",
           "ticks": "",
           "title": {
            "standoff": 15
           },
           "zerolinecolor": "white",
           "zerolinewidth": 2
          },
          "yaxis": {
           "automargin": true,
           "gridcolor": "white",
           "linecolor": "white",
           "ticks": "",
           "title": {
            "standoff": 15
           },
           "zerolinecolor": "white",
           "zerolinewidth": 2
          }
         }
        }
       }
      }
     },
     "metadata": {},
     "output_type": "display_data"
    }
   ],
   "source": [
    "import pandas as pd\n",
    "import json\n",
    "import numpy as np\n",
    "import plotly.express as px\n",
    "from urllib.request import urlopen\n",
    "\n",
    "#GeoJSON stadsdelen Amsterdam\n",
    "GEOJSON_URL = \"https://maps.amsterdam.nl/open_geodata/geojson_lnglat.php?KAARTLAAG=INDELING_STADSDEEL&THEMA=gebiedsindeling\"\n",
    "with urlopen(GEOJSON_URL) as response:\n",
    "    stadsdelen = json.load(response)\n",
    "\n",
    "#Get Sensors from data\n",
    "df = pd.read_csv(\"sensor-location.xlsx - Sheet1.csv\")\n",
    "df[[\"Lat\", \"Long\"]] = df[\"Lat/Long\"].str.split(\",\", expand=True)\n",
    "df[\"Lat\"]  = pd.to_numeric(df[\"Lat\"],  errors=\"coerce\")\n",
    "df[\"Long\"] = pd.to_numeric(df[\"Long\"], errors=\"coerce\")\n",
    "\n",
    "#Some sensors don't have \"Breedte\", so it gives \"Effectieve breedte\"\n",
    "for col in [\"Breedte\", \"Effectieve breedte\"]:\n",
    "    if col in df.columns:\n",
    "        df[col] = df[col].fillna(\"Effectieve breedte\")\n",
    "\n",
    "#RANDOM data to test for heatmap \n",
    "rng = np.random.default_rng(42)\n",
    "df[\"Persons\"] = rng.integers(0, 200, size=len(df))\n",
    "\n",
    "#HEATMAP\n",
    "fig = px.density_mapbox(\n",
    "    df,\n",
    "    lat=\"Lat\",\n",
    "    lon=\"Long\",\n",
    "    z=\"Persons\",                     # gewicht: meer persons = hogere intensiteit\n",
    "    radius=60,                       # straal in meters (speel hiermee!)\n",
    "    center={\"lat\": 52.372, \"lon\": 4.900},\n",
    "    zoom=10,\n",
    "    color_continuous_scale=\"YlOrRd\", # geel→rood\n",
    "    opacity=0.7,\n",
    "    height=700\n",
    ")\n",
    "\n",
    "fig.update_layout(\n",
    "    mapbox_style=\"carto-positron\",   # of \"open-street-map\" als je geen token hebt\n",
    "    margin={\"r\":0,\"t\":0,\"l\":0,\"b\":0}\n",
    ")\n",
    "\n",
    "fig.show()\n"
   ]
  },
  {
   "cell_type": "code",
   "execution_count": 5,
   "id": "78b7a817",
   "metadata": {},
   "outputs": [
    {
     "name": "stderr",
     "output_type": "stream",
     "text": [
      "C:\\Users\\matsj\\AppData\\Local\\Temp\\ipykernel_12672\\998446222.py:121: DeprecationWarning:\n",
      "\n",
      "*density_mapbox* is deprecated! Use *density_map* instead. Learn more at: https://plotly.com/python/mapbox-to-maplibre/\n",
      "\n"
     ]
    },
    {
     "data": {
      "application/vnd.plotly.v1+json": {
       "config": {
        "plotlyServerURL": "https://plot.ly"
       },
       "data": [
        {
         "coloraxis": "coloraxis",
         "hovertemplate": "timestamp_str=2025-08-20 13:00:00<br>value=%{z}<br>Lat=%{lat}<br>Long=%{lon}<extra></extra>",
         "lat": {
          "bdata": "V7CNeLIvSkB4R8Zq8y9KQCuk/KTaL0pAomDGFKwvSkAZ6NoX0C9KQNsTJLa7L0pAdck4RrIvSkDMRBFSty9KQPqa5bLRL0pA3EYDeAswSkBdM/lmmy9KQCWQEru2L0pAwFq1a0IwSkDEBaBRujBKQBr8/WK2MEpAaM2Pv7QwSkDFVzuKczBKQMVXO4pzMEpA3soSnWUwSkB7Lei9MTJKQLMKmwEuMkpAEJVGzOwvSkDs3R/vVTNKQLTHC+nwMEpA",
          "dtype": "f8"
         },
         "lon": {
          "bdata": "DtdqD3uRE0C21hcJbZkTQA74/DBCmBNAcOoDyTuXE0A8hPHTuJcTQDEnaJPDlxNAe8A8ZMqXE0Dk9ssnK5YTQAzNdRppmRNAnkFD/wSXE0C+MJkqGJUTQDT4+8VsmRNAjINLx5yXE0B0DTM0npgTQH5S7dPxmBNAUd7H0RyZE0CgbTXrjJ8TQKBtNeuMnxNAEaYol8a/E0AaNV8lH4sTQLNeDOVEixNAoN/3b17ME0DAzeLFwpATQBcP7zmwnBNA",
          "dtype": "f8"
         },
         "name": "",
         "opacity": 0.7,
         "radius": 60,
         "subplot": "mapbox",
         "type": "densitymapbox",
         "z": {
          "bdata": "u7ciMUFFIEB6xVOPNEgeQNnts8pMaQRA5ULlX8vLCkD0o+GUuSkRQA+Mch9vGBBAeGkeG9xR9T+O4sG7AcvzP7ElmvaDcN0/SxL4gbPt6D9CJa5jXMEBQGhbzTrjmw1AlSpR9pay/D+OO6WD9b8IQN/fXqEo8+o/1hBmJIww3z9x7Z8Cuy0RQOhpwCDpaxBA3WaFfZaCCUBQOuwZHav9P6ez7nrEIwJA/h4GBISAA0AASUNTlwi+P6QzMPKypts/",
          "dtype": "f8"
         }
        }
       ],
       "frames": [
        {
         "data": [
          {
           "coloraxis": "coloraxis",
           "hovertemplate": "timestamp_str=2025-08-20 13:00:00<br>value=%{z}<br>Lat=%{lat}<br>Long=%{lon}<extra></extra>",
           "lat": {
            "bdata": "V7CNeLIvSkB4R8Zq8y9KQCuk/KTaL0pAomDGFKwvSkAZ6NoX0C9KQNsTJLa7L0pAdck4RrIvSkDMRBFSty9KQPqa5bLRL0pA3EYDeAswSkBdM/lmmy9KQCWQEru2L0pAwFq1a0IwSkDEBaBRujBKQBr8/WK2MEpAaM2Pv7QwSkDFVzuKczBKQMVXO4pzMEpA3soSnWUwSkB7Lei9MTJKQLMKmwEuMkpAEJVGzOwvSkDs3R/vVTNKQLTHC+nwMEpA",
            "dtype": "f8"
           },
           "lon": {
            "bdata": "DtdqD3uRE0C21hcJbZkTQA74/DBCmBNAcOoDyTuXE0A8hPHTuJcTQDEnaJPDlxNAe8A8ZMqXE0Dk9ssnK5YTQAzNdRppmRNAnkFD/wSXE0C+MJkqGJUTQDT4+8VsmRNAjINLx5yXE0B0DTM0npgTQH5S7dPxmBNAUd7H0RyZE0CgbTXrjJ8TQKBtNeuMnxNAEaYol8a/E0AaNV8lH4sTQLNeDOVEixNAoN/3b17ME0DAzeLFwpATQBcP7zmwnBNA",
            "dtype": "f8"
           },
           "name": "",
           "opacity": 0.7,
           "radius": 60,
           "subplot": "mapbox",
           "type": "densitymapbox",
           "z": {
            "bdata": "u7ciMUFFIEB6xVOPNEgeQNnts8pMaQRA5ULlX8vLCkD0o+GUuSkRQA+Mch9vGBBAeGkeG9xR9T+O4sG7AcvzP7ElmvaDcN0/SxL4gbPt6D9CJa5jXMEBQGhbzTrjmw1AlSpR9pay/D+OO6WD9b8IQN/fXqEo8+o/1hBmJIww3z9x7Z8Cuy0RQOhpwCDpaxBA3WaFfZaCCUBQOuwZHav9P6ez7nrEIwJA/h4GBISAA0AASUNTlwi+P6QzMPKypts/",
            "dtype": "f8"
           }
          }
         ],
         "name": "2025-08-20 13:00:00"
        },
        {
         "data": [
          {
           "coloraxis": "coloraxis",
           "hovertemplate": "timestamp_str=2025-08-20 13:03:00<br>value=%{z}<br>Lat=%{lat}<br>Long=%{lon}<extra></extra>",
           "lat": {
            "bdata": "V7CNeLIvSkB4R8Zq8y9KQCuk/KTaL0pAomDGFKwvSkAZ6NoX0C9KQNsTJLa7L0pAdck4RrIvSkDMRBFSty9KQPqa5bLRL0pA3EYDeAswSkBdM/lmmy9KQCWQEru2L0pAwFq1a0IwSkDEBaBRujBKQBr8/WK2MEpAaM2Pv7QwSkDFVzuKczBKQMVXO4pzMEpA3soSnWUwSkB7Lei9MTJKQLMKmwEuMkpAEJVGzOwvSkDs3R/vVTNKQLTHC+nwMEpA",
            "dtype": "f8"
           },
           "lon": {
            "bdata": "DtdqD3uRE0C21hcJbZkTQA74/DBCmBNAcOoDyTuXE0A8hPHTuJcTQDEnaJPDlxNAe8A8ZMqXE0Dk9ssnK5YTQAzNdRppmRNAnkFD/wSXE0C+MJkqGJUTQDT4+8VsmRNAjINLx5yXE0B0DTM0npgTQH5S7dPxmBNAUd7H0RyZE0CgbTXrjJ8TQKBtNeuMnxNAEaYol8a/E0AaNV8lH4sTQLNeDOVEixNAoN/3b17ME0DAzeLFwpATQBcP7zmwnBNA",
            "dtype": "f8"
           },
           "name": "",
           "opacity": 0.7,
           "radius": 60,
           "subplot": "mapbox",
           "type": "densitymapbox",
           "z": {
            "bdata": "e75muWxEIEBP6zao/UYeQKDFUiRfaQRAgIxv3u7LCkCeCU0SSyoRQNP6WwLwFxBAk6gXfJpT9T+b9XNUf87zPx3ZpsLpbt0/mb+dnz3y6D+YM9sV+sABQLiSHRuBmA1AWKmgouq3/D9CQL6ECr4IQNj+hGnO8Oo/VSMFYE0v3z+1F9F2TC0RQDJJG/0eaxBAxcn9DkWBCUDdcpqqIKv9P7+IER1dIAJAmtAksaR8A0AZmsK1oBi+PxEvFTwBpNs/",
            "dtype": "f8"
           }
          }
         ],
         "name": "2025-08-20 13:03:00"
        },
        {
         "data": [
          {
           "coloraxis": "coloraxis",
           "hovertemplate": "timestamp_str=2025-08-20 13:06:00<br>value=%{z}<br>Lat=%{lat}<br>Long=%{lon}<extra></extra>",
           "lat": {
            "bdata": "V7CNeLIvSkB4R8Zq8y9KQCuk/KTaL0pAomDGFKwvSkAZ6NoX0C9KQNsTJLa7L0pAdck4RrIvSkDMRBFSty9KQPqa5bLRL0pA3EYDeAswSkBdM/lmmy9KQCWQEru2L0pAwFq1a0IwSkDEBaBRujBKQBr8/WK2MEpAaM2Pv7QwSkDFVzuKczBKQMVXO4pzMEpA3soSnWUwSkB7Lei9MTJKQLMKmwEuMkpAEJVGzOwvSkDs3R/vVTNKQLTHC+nwMEpA",
            "dtype": "f8"
           },
           "lon": {
            "bdata": "DtdqD3uRE0C21hcJbZkTQA74/DBCmBNAcOoDyTuXE0A8hPHTuJcTQDEnaJPDlxNAe8A8ZMqXE0Dk9ssnK5YTQAzNdRppmRNAnkFD/wSXE0C+MJkqGJUTQDT4+8VsmRNAjINLx5yXE0B0DTM0npgTQH5S7dPxmBNAUd7H0RyZE0CgbTXrjJ8TQKBtNeuMnxNAEaYol8a/E0AaNV8lH4sTQLNeDOVEixNAoN/3b17ME0DAzeLFwpATQBcP7zmwnBNA",
            "dtype": "f8"
           },
           "name": "",
           "opacity": 0.7,
           "radius": 60,
           "subplot": "mapbox",
           "type": "densitymapbox",
           "z": {
            "bdata": "Up0OZD0VGUA1VxcBXwsbQM5clmU+NgdA5bSn5JwIEUB8+fjfpXcUQNoQLcPJJw5AgS87erLR6j+UfDa8am8DQGxfHyHzlsS/nnx6bMugAUCO1NbjGa/1P6oZCLjWDfs/NInVehq7AkBmGNI8244SQMZ1Qp4T0QBAMOZb3bmJ7z+HQ4AdSRMSQBvgON8+kQBAdo3xvK9lAkBJ1uHoKv0FQKgXIeEgxuM/RH5HnjVJ6T9OfotOlhrrP+OKi6Nyk+Q/",
            "dtype": "f8"
           }
          }
         ],
         "name": "2025-08-20 13:06:00"
        },
        {
         "data": [
          {
           "coloraxis": "coloraxis",
           "hovertemplate": "timestamp_str=2025-08-20 13:09:00<br>value=%{z}<br>Lat=%{lat}<br>Long=%{lon}<extra></extra>",
           "lat": {
            "bdata": "V7CNeLIvSkB4R8Zq8y9KQCuk/KTaL0pAomDGFKwvSkAZ6NoX0C9KQNsTJLa7L0pAdck4RrIvSkDMRBFSty9KQPqa5bLRL0pA3EYDeAswSkBdM/lmmy9KQCWQEru2L0pAwFq1a0IwSkDEBaBRujBKQBr8/WK2MEpAaM2Pv7QwSkDFVzuKczBKQMVXO4pzMEpA3soSnWUwSkB7Lei9MTJKQLMKmwEuMkpAEJVGzOwvSkDs3R/vVTNKQLTHC+nwMEpA",
            "dtype": "f8"
           },
           "lon": {
            "bdata": "DtdqD3uRE0C21hcJbZkTQA74/DBCmBNAcOoDyTuXE0A8hPHTuJcTQDEnaJPDlxNAe8A8ZMqXE0Dk9ssnK5YTQAzNdRppmRNAnkFD/wSXE0C+MJkqGJUTQDT4+8VsmRNAjINLx5yXE0B0DTM0npgTQH5S7dPxmBNAUd7H0RyZE0CgbTXrjJ8TQKBtNeuMnxNAEaYol8a/E0AaNV8lH4sTQLNeDOVEixNAoN/3b17ME0DAzeLFwpATQBcP7zmwnBNA",
            "dtype": "f8"
           },
           "name": "",
           "opacity": 0.7,
           "radius": 60,
           "subplot": "mapbox",
           "type": "densitymapbox",
           "z": {
            "bdata": "Fn8loT4TGUBoVfCAVwgbQFe7gV2oNwdAB1BCn34GEUDZ4I6BhngUQODaiZKQKA5Ak9/DoY7Z6j/4vfLFg3IDQKWz/lxVcsS/ctmN4yyhAUBEtdK1QKz1P9anwdlSDPs/PUSjO4i9AkCRZFbvcIsSQIf/z7x3zwBAnVydrc2Q7z/Fc7aA0BISQHszar5KjgBAzARoABRoAkCQhlPm5vsFQLC6HwHtuOM/ei3PIJE46T+XzG+g2RjrP/BMiaBBleQ/",
            "dtype": "f8"
           }
          }
         ],
         "name": "2025-08-20 13:09:00"
        },
        {
         "data": [
          {
           "coloraxis": "coloraxis",
           "hovertemplate": "timestamp_str=2025-08-20 13:12:00<br>value=%{z}<br>Lat=%{lat}<br>Long=%{lon}<extra></extra>",
           "lat": {
            "bdata": "V7CNeLIvSkB4R8Zq8y9KQCuk/KTaL0pAomDGFKwvSkAZ6NoX0C9KQNsTJLa7L0pAdck4RrIvSkDMRBFSty9KQPqa5bLRL0pA3EYDeAswSkBdM/lmmy9KQCWQEru2L0pAwFq1a0IwSkDEBaBRujBKQBr8/WK2MEpAaM2Pv7QwSkDFVzuKczBKQMVXO4pzMEpA3soSnWUwSkB7Lei9MTJKQLMKmwEuMkpAEJVGzOwvSkDs3R/vVTNKQLTHC+nwMEpA",
            "dtype": "f8"
           },
           "lon": {
            "bdata": "DtdqD3uRE0C21hcJbZkTQA74/DBCmBNAcOoDyTuXE0A8hPHTuJcTQDEnaJPDlxNAe8A8ZMqXE0Dk9ssnK5YTQAzNdRppmRNAnkFD/wSXE0C+MJkqGJUTQDT4+8VsmRNAjINLx5yXE0B0DTM0npgTQH5S7dPxmBNAUd7H0RyZE0CgbTXrjJ8TQKBtNeuMnxNAEaYol8a/E0AaNV8lH4sTQLNeDOVEixNAoN/3b17ME0DAzeLFwpATQBcP7zmwnBNA",
            "dtype": "f8"
           },
           "name": "",
           "opacity": 0.7,
           "radius": 60,
           "subplot": "mapbox",
           "type": "densitymapbox",
           "z": {
            "bdata": "Cp5CrtQTGUBSoKqdvAsbQPPfKB68OwdAdBE6Q8wIEUCMMnYdBXsUQKfpswOuKw5A6k1WVuTh6j8ANO/di3QDQCvNObpChsS/SsM6n0uiAUAfEynN5rH1P6LP7F/+D/s/jbG4pA/CAkBzuFZ72IsSQDYqJiXzzgBA13rQ/eaP7z/yBj1AnBQSQKCqnbwjjgBAe7B74YRoAkA6evzepv8FQEEEZs+vt+M/d79lqVA46T929jpOdhjrPy6A33XsluQ/",
            "dtype": "f8"
           }
          }
         ],
         "name": "2025-08-20 13:12:00"
        },
        {
         "data": [
          {
           "coloraxis": "coloraxis",
           "hovertemplate": "timestamp_str=2025-08-20 13:15:00<br>value=%{z}<br>Lat=%{lat}<br>Long=%{lon}<extra></extra>",
           "lat": {
            "bdata": "V7CNeLIvSkB4R8Zq8y9KQCuk/KTaL0pAomDGFKwvSkAZ6NoX0C9KQNsTJLa7L0pAdck4RrIvSkDMRBFSty9KQPqa5bLRL0pA3EYDeAswSkBdM/lmmy9KQCWQEru2L0pAwFq1a0IwSkDEBaBRujBKQBr8/WK2MEpAaM2Pv7QwSkDFVzuKczBKQMVXO4pzMEpA3soSnWUwSkB7Lei9MTJKQLMKmwEuMkpAEJVGzOwvSkDs3R/vVTNKQLTHC+nwMEpA",
            "dtype": "f8"
           },
           "lon": {
            "bdata": "DtdqD3uRE0C21hcJbZkTQA74/DBCmBNAcOoDyTuXE0A8hPHTuJcTQDEnaJPDlxNAe8A8ZMqXE0Dk9ssnK5YTQAzNdRppmRNAnkFD/wSXE0C+MJkqGJUTQDT4+8VsmRNAjINLx5yXE0B0DTM0npgTQH5S7dPxmBNAUd7H0RyZE0CgbTXrjJ8TQKBtNeuMnxNAEaYol8a/E0AaNV8lH4sTQLNeDOVEixNAoN/3b17ME0DAzeLFwpATQBcP7zmwnBNA",
            "dtype": "f8"
           },
           "name": "",
           "opacity": 0.7,
           "radius": 60,
           "subplot": "mapbox",
           "type": "densitymapbox",
           "z": {
            "bdata": "1xcJbTmXGEAXgbG+gTkYQFRNtbusjgNAY3a7A+EvDEDb96i/XkERQC19QzxtOAtAYI1YMJZO7z/JYCBjSdQBQAJM1xvOX7A/DnkVY6oq/T8U9TjCWBX3P1NI6B1d2/8/0xHAzeKF/D804IfePYMQQDEo02hysfs/xt3ePVmU6j9HqpRDMOMPQPL4rCEnEgJA8u7IWG1+A0AqOSf20L4BQP4eSCBW5ug/f2cgOxRq7D9wCcA/pSrnP0EyePOvwOA/",
            "dtype": "f8"
           }
          }
         ],
         "name": "2025-08-20 13:15:00"
        },
        {
         "data": [
          {
           "coloraxis": "coloraxis",
           "hovertemplate": "timestamp_str=2025-08-20 13:18:00<br>value=%{z}<br>Lat=%{lat}<br>Long=%{lon}<extra></extra>",
           "lat": {
            "bdata": "V7CNeLIvSkB4R8Zq8y9KQCuk/KTaL0pAomDGFKwvSkAZ6NoX0C9KQNsTJLa7L0pAdck4RrIvSkDMRBFSty9KQPqa5bLRL0pA3EYDeAswSkBdM/lmmy9KQCWQEru2L0pAwFq1a0IwSkDEBaBRujBKQBr8/WK2MEpAaM2Pv7QwSkDFVzuKczBKQMVXO4pzMEpA3soSnWUwSkB7Lei9MTJKQLMKmwEuMkpAEJVGzOwvSkDs3R/vVTNKQLTHC+nwMEpA",
            "dtype": "f8"
           },
           "lon": {
            "bdata": "DtdqD3uRE0C21hcJbZkTQA74/DBCmBNAcOoDyTuXE0A8hPHTuJcTQDEnaJPDlxNAe8A8ZMqXE0Dk9ssnK5YTQAzNdRppmRNAnkFD/wSXE0C+MJkqGJUTQDT4+8VsmRNAjINLx5yXE0B0DTM0npgTQH5S7dPxmBNAUd7H0RyZE0CgbTXrjJ8TQKBtNeuMnxNAEaYol8a/E0AaNV8lH4sTQLNeDOVEixNAoN/3b17ME0DAzeLFwpATQBcP7zmwnBNA",
            "dtype": "f8"
           },
           "name": "",
           "opacity": 0.7,
           "radius": 60,
           "subplot": "mapbox",
           "type": "densitymapbox",
           "z": {
            "bdata": "14qRgCyXGEB+jLlrCTkYQK1+th86jgNAjEAGPHotDEDZ6Jyf4kARQNUhN8MNOAtAqkavBihN7z/WqfI9I9EBQOYGqwDLibA/14EYjSEl/T8iQ32BDxT3P9JHKp1Z3P8/Wd5VD5iH/D/EXihgO4AQQAtgysABrfs/E840ggmT6j9vw956A+IPQPEfHP15FAJAb5wU5j1+A0C4hDJDmbwBQOfw/5n37ug/ZrM0AdBy7D+x01l3PSLnP+ALOPAPwOA/",
            "dtype": "f8"
           }
          }
         ],
         "name": "2025-08-20 13:18:00"
        },
        {
         "data": [
          {
           "coloraxis": "coloraxis",
           "hovertemplate": "timestamp_str=2025-08-20 13:21:00<br>value=%{z}<br>Lat=%{lat}<br>Long=%{lon}<extra></extra>",
           "lat": {
            "bdata": "V7CNeLIvSkB4R8Zq8y9KQCuk/KTaL0pAomDGFKwvSkAZ6NoX0C9KQNsTJLa7L0pAdck4RrIvSkDMRBFSty9KQPqa5bLRL0pA3EYDeAswSkBdM/lmmy9KQCWQEru2L0pAwFq1a0IwSkDEBaBRujBKQBr8/WK2MEpAaM2Pv7QwSkDFVzuKczBKQMVXO4pzMEpA3soSnWUwSkB7Lei9MTJKQLMKmwEuMkpAEJVGzOwvSkDs3R/vVTNKQLTHC+nwMEpA",
            "dtype": "f8"
           },
           "lon": {
            "bdata": "DtdqD3uRE0C21hcJbZkTQA74/DBCmBNAcOoDyTuXE0A8hPHTuJcTQDEnaJPDlxNAe8A8ZMqXE0Dk9ssnK5YTQAzNdRppmRNAnkFD/wSXE0C+MJkqGJUTQDT4+8VsmRNAjINLx5yXE0B0DTM0npgTQH5S7dPxmBNAUd7H0RyZE0CgbTXrjJ8TQKBtNeuMnxNAEaYol8a/E0AaNV8lH4sTQLNeDOVEixNAoN/3b17ME0DAzeLFwpATQBcP7zmwnBNA",
            "dtype": "f8"
           },
           "name": "",
           "opacity": 0.7,
           "radius": 60,
           "subplot": "mapbox",
           "type": "densitymapbox",
           "z": {
            "bdata": "9JJag1KXGECQEVDhCDoYQI3PZP88jQNAVqBxPPoqDEBe86rOakERQEYotoKmNQtAzBO+rapN7z/RgZt7/soBQKDGOcFph7A/pVwr60gf/T/lGxvLBRj3Pz/vfPWn4/8/8UNKWMCJ/D8SDIxh834QQKkX11MGqfs//ZHYpJGF6j+NYrml1eAPQAW+R6I8GAJA8ZwtILR+A0DroFxkTLsBQEmITb+f9eg/nhhIBm9+7D9tFe2/CBnnP/B+Bf4qv+A/",
            "dtype": "f8"
           }
          }
         ],
         "name": "2025-08-20 13:21:00"
        },
        {
         "data": [
          {
           "coloraxis": "coloraxis",
           "hovertemplate": "timestamp_str=2025-08-20 13:24:00<br>value=%{z}<br>Lat=%{lat}<br>Long=%{lon}<extra></extra>",
           "lat": {
            "bdata": "V7CNeLIvSkB4R8Zq8y9KQCuk/KTaL0pAomDGFKwvSkAZ6NoX0C9KQNsTJLa7L0pAdck4RrIvSkDMRBFSty9KQPqa5bLRL0pA3EYDeAswSkBdM/lmmy9KQCWQEru2L0pAwFq1a0IwSkDEBaBRujBKQBr8/WK2MEpAaM2Pv7QwSkDFVzuKczBKQMVXO4pzMEpA3soSnWUwSkB7Lei9MTJKQLMKmwEuMkpAEJVGzOwvSkDs3R/vVTNKQLTHC+nwMEpA",
            "dtype": "f8"
           },
           "lon": {
            "bdata": "DtdqD3uRE0C21hcJbZkTQA74/DBCmBNAcOoDyTuXE0A8hPHTuJcTQDEnaJPDlxNAe8A8ZMqXE0Dk9ssnK5YTQAzNdRppmRNAnkFD/wSXE0C+MJkqGJUTQDT4+8VsmRNAjINLx5yXE0B0DTM0npgTQH5S7dPxmBNAUd7H0RyZE0CgbTXrjJ8TQKBtNeuMnxNAEaYol8a/E0AaNV8lH4sTQLNeDOVEixNAoN/3b17ME0DAzeLFwpATQBcP7zmwnBNA",
            "dtype": "f8"
           },
           "name": "",
           "opacity": 0.7,
           "radius": 60,
           "subplot": "mapbox",
           "type": "densitymapbox",
           "z": {
            "bdata": "woh9AiiWGECN+AQ/YDQYQBLhur3/igNAS8D5Hj8lDED8OJojKz8RQJ6L0BliNgtApZ4FobxP7z+lidI5ms4BQL8qM38uFbE/RHUpZJ0g/T+fx80VSgv3P1e1/1yP3f8/7uZOVUaI/D8/raI/NHsQQGJyWTtApvs/T0ATYcOT6j8rbtxift4PQCxwaIDBFAJA9EAaBAyBA0AnyL4aVrcBQI7fJYKC/Og/kLQC4Ct87D/oTrD/OhfnP/KIXR34v+A/",
            "dtype": "f8"
           }
          }
         ],
         "name": "2025-08-20 13:24:00"
        },
        {
         "data": [
          {
           "coloraxis": "coloraxis",
           "hovertemplate": "timestamp_str=2025-08-20 13:27:00<br>value=%{z}<br>Lat=%{lat}<br>Long=%{lon}<extra></extra>",
           "lat": {
            "bdata": "V7CNeLIvSkB4R8Zq8y9KQCuk/KTaL0pAomDGFKwvSkAZ6NoX0C9KQNsTJLa7L0pAdck4RrIvSkDMRBFSty9KQPqa5bLRL0pA3EYDeAswSkBdM/lmmy9KQCWQEru2L0pAwFq1a0IwSkDEBaBRujBKQBr8/WK2MEpAaM2Pv7QwSkDFVzuKczBKQMVXO4pzMEpA3soSnWUwSkB7Lei9MTJKQLMKmwEuMkpAEJVGzOwvSkDs3R/vVTNKQLTHC+nwMEpA",
            "dtype": "f8"
           },
           "lon": {
            "bdata": "DtdqD3uRE0C21hcJbZkTQA74/DBCmBNAcOoDyTuXE0A8hPHTuJcTQDEnaJPDlxNAe8A8ZMqXE0Dk9ssnK5YTQAzNdRppmRNAnkFD/wSXE0C+MJkqGJUTQDT4+8VsmRNAjINLx5yXE0B0DTM0npgTQH5S7dPxmBNAUd7H0RyZE0CgbTXrjJ8TQKBtNeuMnxNAEaYol8a/E0AaNV8lH4sTQLNeDOVEixNAoN/3b17ME0DAzeLFwpATQBcP7zmwnBNA",
            "dtype": "f8"
           },
           "name": "",
           "opacity": 0.7,
           "radius": 60,
           "subplot": "mapbox",
           "type": "densitymapbox",
           "z": {
            "bdata": "syjsouiBHUDXo3A9CrcgQJmD+1zITgtAoQuPonP7FEDXbOUl/2MYQBFJPsCkwhFAfasaKQAL8T9L+VrhpzsCQHxAA14kvNi/WXhN/t1xA0DPx2sUSB/7P4veqYB7DgJAo1wav/CKB0B1E8ZgD4cUQH0/NV66aQJACx6N4NJz6T9qSex/JRQWQH1w47s5YQRAUhuLXCZJBEDluFM6WF8KQJXXpaGh+vM/mEwVjErq9z934b1ZOWrtP2PLl7ym7Og/",
            "dtype": "f8"
           }
          }
         ],
         "name": "2025-08-20 13:27:00"
        },
        {
         "data": [
          {
           "coloraxis": "coloraxis",
           "hovertemplate": "timestamp_str=2025-08-20 13:30:00<br>value=%{z}<br>Lat=%{lat}<br>Long=%{lon}<extra></extra>",
           "lat": {
            "bdata": "V7CNeLIvSkB4R8Zq8y9KQCuk/KTaL0pAomDGFKwvSkAZ6NoX0C9KQNsTJLa7L0pAdck4RrIvSkDMRBFSty9KQPqa5bLRL0pA3EYDeAswSkBdM/lmmy9KQCWQEru2L0pAwFq1a0IwSkDEBaBRujBKQBr8/WK2MEpAaM2Pv7QwSkDFVzuKczBKQMVXO4pzMEpA3soSnWUwSkB7Lei9MTJKQLMKmwEuMkpAEJVGzOwvSkDs3R/vVTNKQLTHC+nwMEpA",
            "dtype": "f8"
           },
           "lon": {
            "bdata": "DtdqD3uRE0C21hcJbZkTQA74/DBCmBNAcOoDyTuXE0A8hPHTuJcTQDEnaJPDlxNAe8A8ZMqXE0Dk9ssnK5YTQAzNdRppmRNAnkFD/wSXE0C+MJkqGJUTQDT4+8VsmRNAjINLx5yXE0B0DTM0npgTQH5S7dPxmBNAUd7H0RyZE0CgbTXrjJ8TQKBtNeuMnxNAEaYol8a/E0AaNV8lH4sTQLNeDOVEixNAoN/3b17ME0DAzeLFwpATQBcP7zmwnBNA",
            "dtype": "f8"
           },
           "name": "",
           "opacity": 0.7,
           "radius": 60,
           "subplot": "mapbox",
           "type": "densitymapbox",
           "z": {
            "bdata": "WfllMEaEHUCARBMoYrkgQJOrWPymUAtA8SSO4Vb+FEDghhiveWUYQIGLX8KywxFAEt55PfMN8T8n9zsUBToCQNylJiRGzdi/oWXdPxZyA0BaI8z+iib7P9k4rLpYEgJAct9qnbiMB0BI3c6+8ogUQIFtDiH4aQJALcQ0HUtp6T8zh6QWShYWQE0gNqLFYwRAy9TJvtBIBEDZrzvdeWIKQD/vfPWnA/Q/x5f1B2/09z+PsrjeumvtP/QEeMGW7eg/",
            "dtype": "f8"
           }
          }
         ],
         "name": "2025-08-20 13:30:00"
        },
        {
         "data": [
          {
           "coloraxis": "coloraxis",
           "hovertemplate": "timestamp_str=2025-08-20 13:33:00<br>value=%{z}<br>Lat=%{lat}<br>Long=%{lon}<extra></extra>",
           "lat": {
            "bdata": "V7CNeLIvSkB4R8Zq8y9KQCuk/KTaL0pAomDGFKwvSkAZ6NoX0C9KQNsTJLa7L0pAdck4RrIvSkDMRBFSty9KQPqa5bLRL0pA3EYDeAswSkBdM/lmmy9KQCWQEru2L0pAwFq1a0IwSkDEBaBRujBKQBr8/WK2MEpAaM2Pv7QwSkDFVzuKczBKQMVXO4pzMEpA3soSnWUwSkB7Lei9MTJKQLMKmwEuMkpAEJVGzOwvSkDs3R/vVTNKQLTHC+nwMEpA",
            "dtype": "f8"
           },
           "lon": {
            "bdata": "DtdqD3uRE0C21hcJbZkTQA74/DBCmBNAcOoDyTuXE0A8hPHTuJcTQDEnaJPDlxNAe8A8ZMqXE0Dk9ssnK5YTQAzNdRppmRNAnkFD/wSXE0C+MJkqGJUTQDT4+8VsmRNAjINLx5yXE0B0DTM0npgTQH5S7dPxmBNAUd7H0RyZE0CgbTXrjJ8TQKBtNeuMnxNAEaYol8a/E0AaNV8lH4sTQLNeDOVEixNAoN/3b17ME0DAzeLFwpATQBcP7zmwnBNA",
            "dtype": "f8"
           },
           "name": "",
           "opacity": 0.7,
           "radius": 60,
           "subplot": "mapbox",
           "type": "densitymapbox",
           "z": {
            "bdata": "2EroLomDHUA6QDBHj7cgQKqAe54/TQtADFpIwOj6FEDqKc1BK2MYQAiT4uMTwhFASiKgZ1gR8T9kqgWb3zUCQBizBJ05udi/S4wKQbNwA0BKmdTQBiD7P/fUoB6RFQJAheLYxBOLB0ARx7q4jYYUQKJfWz/9ZwJA8nJ9xFRf6T/2m+SitRUWQCUKiKRxYwRA+TB72XZKBEBx1MBF3V0KQH2ApD5/EPQ/evsYGB4A+D/AjTl0H2XtPzjR+M/k7Og/",
            "dtype": "f8"
           }
          }
         ],
         "name": "2025-08-20 13:33:00"
        },
        {
         "data": [
          {
           "coloraxis": "coloraxis",
           "hovertemplate": "timestamp_str=2025-08-20 13:36:00<br>value=%{z}<br>Lat=%{lat}<br>Long=%{lon}<extra></extra>",
           "lat": {
            "bdata": "V7CNeLIvSkB4R8Zq8y9KQCuk/KTaL0pAomDGFKwvSkAZ6NoX0C9KQNsTJLa7L0pAdck4RrIvSkDMRBFSty9KQPqa5bLRL0pA3EYDeAswSkBdM/lmmy9KQCWQEru2L0pAwFq1a0IwSkDEBaBRujBKQBr8/WK2MEpAaM2Pv7QwSkDFVzuKczBKQMVXO4pzMEpA3soSnWUwSkB7Lei9MTJKQLMKmwEuMkpAEJVGzOwvSkDs3R/vVTNKQLTHC+nwMEpA",
            "dtype": "f8"
           },
           "lon": {
            "bdata": "DtdqD3uRE0C21hcJbZkTQA74/DBCmBNAcOoDyTuXE0A8hPHTuJcTQDEnaJPDlxNAe8A8ZMqXE0Dk9ssnK5YTQAzNdRppmRNAnkFD/wSXE0C+MJkqGJUTQDT4+8VsmRNAjINLx5yXE0B0DTM0npgTQH5S7dPxmBNAUd7H0RyZE0CgbTXrjJ8TQKBtNeuMnxNAEaYol8a/E0AaNV8lH4sTQLNeDOVEixNAoN/3b17ME0DAzeLFwpATQBcP7zmwnBNA",
            "dtype": "f8"
           },
           "name": "",
           "opacity": 0.7,
           "radius": 60,
           "subplot": "mapbox",
           "type": "densitymapbox",
           "z": {
            "bdata": "W5VE9kEGHEDZrzvdedIcQLm/HyNF2QVASXKvgs5qEEB7Voj9VJsTQF392CQ/Mg5AjCcnf5w18D9F35M9+L/+P8+SlZmx7LC/9qeeFs3U/D8r1hXYCCn7PywOZ3419wJA6cqxBjnpAEBevvVhvWkRQDUrNkEvF/0/9flBwM7L5j+SQe4iTEESQEdm5OJefwZA0l3I2So3BECB6h9EMrQDQP4QduUOVvM/IjO8/smk9j/RKukX21rlP8lt4oFUTOI/",
            "dtype": "f8"
           }
          }
         ],
         "name": "2025-08-20 13:36:00"
        },
        {
         "data": [
          {
           "coloraxis": "coloraxis",
           "hovertemplate": "timestamp_str=2025-08-20 13:39:00<br>value=%{z}<br>Lat=%{lat}<br>Long=%{lon}<extra></extra>",
           "lat": {
            "bdata": "V7CNeLIvSkB4R8Zq8y9KQCuk/KTaL0pAomDGFKwvSkAZ6NoX0C9KQNsTJLa7L0pAdck4RrIvSkDMRBFSty9KQPqa5bLRL0pA3EYDeAswSkBdM/lmmy9KQCWQEru2L0pAwFq1a0IwSkDEBaBRujBKQBr8/WK2MEpAaM2Pv7QwSkDFVzuKczBKQMVXO4pzMEpA3soSnWUwSkB7Lei9MTJKQLMKmwEuMkpAEJVGzOwvSkDs3R/vVTNKQLTHC+nwMEpA",
            "dtype": "f8"
           },
           "lon": {
            "bdata": "DtdqD3uRE0C21hcJbZkTQA74/DBCmBNAcOoDyTuXE0A8hPHTuJcTQDEnaJPDlxNAe8A8ZMqXE0Dk9ssnK5YTQAzNdRppmRNAnkFD/wSXE0C+MJkqGJUTQDT4+8VsmRNAjINLx5yXE0B0DTM0npgTQH5S7dPxmBNAUd7H0RyZE0CgbTXrjJ8TQKBtNeuMnxNAEaYol8a/E0AaNV8lH4sTQLNeDOVEixNAoN/3b17ME0DAzeLFwpATQBcP7zmwnBNA",
            "dtype": "f8"
           },
           "name": "",
           "opacity": 0.7,
           "radius": 60,
           "subplot": "mapbox",
           "type": "densitymapbox",
           "z": {
            "bdata": "w8E5fgMGHECVeOUfItIcQO1KJgIw2QVAwUXdvZJqEEDLcsi8RJsTQMhbrn5sMg5AIMFDBxM18D9MNh5ssbv+P2w5FmKV1bC/E0yQbAnU/D9SskHLXyb7PzIqX4a19wJAyZRq+kfqAEBAYC9ePWgRQHrgY7DiFP0/UmYgInfJ5j/QfTmzXUESQMMdXsYDgAZASvcpfdc2BEAQiCGDJrMDQGO+F7ptWvM/zosTX+2o9j/jCAicW1flPyUlHP7DS+I/",
            "dtype": "f8"
           }
          }
         ],
         "name": "2025-08-20 13:39:00"
        },
        {
         "data": [
          {
           "coloraxis": "coloraxis",
           "hovertemplate": "timestamp_str=2025-08-20 13:42:00<br>value=%{z}<br>Lat=%{lat}<br>Long=%{lon}<extra></extra>",
           "lat": {
            "bdata": "V7CNeLIvSkB4R8Zq8y9KQCuk/KTaL0pAomDGFKwvSkAZ6NoX0C9KQNsTJLa7L0pAdck4RrIvSkDMRBFSty9KQPqa5bLRL0pA3EYDeAswSkBdM/lmmy9KQCWQEru2L0pAwFq1a0IwSkDEBaBRujBKQBr8/WK2MEpAaM2Pv7QwSkDFVzuKczBKQMVXO4pzMEpA3soSnWUwSkB7Lei9MTJKQLMKmwEuMkpAEJVGzOwvSkDs3R/vVTNKQLTHC+nwMEpA",
            "dtype": "f8"
           },
           "lon": {
            "bdata": "DtdqD3uRE0C21hcJbZkTQA74/DBCmBNAcOoDyTuXE0A8hPHTuJcTQDEnaJPDlxNAe8A8ZMqXE0Dk9ssnK5YTQAzNdRppmRNAnkFD/wSXE0C+MJkqGJUTQDT4+8VsmRNAjINLx5yXE0B0DTM0npgTQH5S7dPxmBNAUd7H0RyZE0CgbTXrjJ8TQKBtNeuMnxNAEaYol8a/E0AaNV8lH4sTQLNeDOVEixNAoN/3b17ME0DAzeLFwpATQBcP7zmwnBNA",
            "dtype": "f8"
           },
           "name": "",
           "opacity": 0.7,
           "radius": 60,
           "subplot": "mapbox",
           "type": "densitymapbox",
           "z": {
            "bdata": "+/K4XokGHECppE5AE9EcQJMBoIob1wVAKk5aXfNnEEDMtz6sN5oTQEkShCugMA5AQ92sZkI48D+x4xr6grH+P6n+WsHjmbC/U9lmGZjL/D9L0pBM4if7Px0ug3uv+wJAw5VYvtPpAECzbzg9OWQRQARrQZTUDv0//vkRGhzA5j+Zuiu7YEASQIXzBB0IhAZA5tSEo5o4BECsFExG364DQPVDEff9YPM/wono19av9j+CBUkCgUzlP2rEiiK9S+I/",
            "dtype": "f8"
           }
          }
         ],
         "name": "2025-08-20 13:42:00"
        },
        {
         "data": [
          {
           "coloraxis": "coloraxis",
           "hovertemplate": "timestamp_str=2025-08-20 13:45:00<br>value=%{z}<br>Lat=%{lat}<br>Long=%{lon}<extra></extra>",
           "lat": {
            "bdata": "V7CNeLIvSkB4R8Zq8y9KQCuk/KTaL0pAomDGFKwvSkAZ6NoX0C9KQNsTJLa7L0pAdck4RrIvSkDMRBFSty9KQPqa5bLRL0pA3EYDeAswSkBdM/lmmy9KQCWQEru2L0pAwFq1a0IwSkDEBaBRujBKQBr8/WK2MEpAaM2Pv7QwSkDFVzuKczBKQMVXO4pzMEpA3soSnWUwSkB7Lei9MTJKQLMKmwEuMkpAEJVGzOwvSkDs3R/vVTNKQLTHC+nwMEpA",
            "dtype": "f8"
           },
           "lon": {
            "bdata": "DtdqD3uRE0C21hcJbZkTQA74/DBCmBNAcOoDyTuXE0A8hPHTuJcTQDEnaJPDlxNAe8A8ZMqXE0Dk9ssnK5YTQAzNdRppmRNAnkFD/wSXE0C+MJkqGJUTQDT4+8VsmRNAjINLx5yXE0B0DTM0npgTQH5S7dPxmBNAUd7H0RyZE0CgbTXrjJ8TQKBtNeuMnxNAEaYol8a/E0AaNV8lH4sTQLNeDOVEixNAoN/3b17ME0DAzeLFwpATQBcP7zmwnBNA",
            "dtype": "f8"
           },
           "name": "",
           "opacity": 0.7,
           "radius": 60,
           "subplot": "mapbox",
           "type": "densitymapbox",
           "z": {
            "bdata": "+RBUjV79G0Czq9p/rmcaQBQjS+ZYDgNAnAO65dnbCUBthmV9FJ8QQGhQfpx6jgxA2H1sN2a+8j9xKDIp9FD6P8ihE3yyZtI/wfQHFPtV9D8aVkwAWUP9Pz3kd+RZMwZAOE2fHXA9+z+leKbhpQUMQL9vMmB/KPQ/r6L1ptgH5T9qv7UTJTEQQLpKd9fZUAlA1LJaBdYGBkBpu1NLhDf+Pym4swr2Ovc/4ESZsnjW+T/hqdPDyLnaP87dEcJh8dw/",
            "dtype": "f8"
           }
          }
         ],
         "name": "2025-08-20 13:45:00"
        },
        {
         "data": [
          {
           "coloraxis": "coloraxis",
           "hovertemplate": "timestamp_str=2025-08-20 13:48:00<br>value=%{z}<br>Lat=%{lat}<br>Long=%{lon}<extra></extra>",
           "lat": {
            "bdata": "V7CNeLIvSkB4R8Zq8y9KQCuk/KTaL0pAomDGFKwvSkAZ6NoX0C9KQNsTJLa7L0pAdck4RrIvSkDMRBFSty9KQPqa5bLRL0pA3EYDeAswSkBdM/lmmy9KQCWQEru2L0pAwFq1a0IwSkDEBaBRujBKQBr8/WK2MEpAaM2Pv7QwSkDFVzuKczBKQMVXO4pzMEpA3soSnWUwSkB7Lei9MTJKQLMKmwEuMkpAEJVGzOwvSkDs3R/vVTNKQLTHC+nwMEpA",
            "dtype": "f8"
           },
           "lon": {
            "bdata": "DtdqD3uRE0C21hcJbZkTQA74/DBCmBNAcOoDyTuXE0A8hPHTuJcTQDEnaJPDlxNAe8A8ZMqXE0Dk9ssnK5YTQAzNdRppmRNAnkFD/wSXE0C+MJkqGJUTQDT4+8VsmRNAjINLx5yXE0B0DTM0npgTQH5S7dPxmBNAUd7H0RyZE0CgbTXrjJ8TQKBtNeuMnxNAEaYol8a/E0AaNV8lH4sTQLNeDOVEixNAoN/3b17ME0DAzeLFwpATQBcP7zmwnBNA",
            "dtype": "f8"
           },
           "name": "",
           "opacity": 0.7,
           "radius": 60,
           "subplot": "mapbox",
           "type": "densitymapbox",
           "z": {
            "bdata": "Ty9CwkH8G0BJK76h8GEaQOHaPwV2CwNAUXAMXHnUCUCgGi/dJJ4QQIFaDB6mjQxAi19n+XC/8j+VeOUfIlr6P1ZXDdt5j9I/ebDFbp9V9D8zHZX2YTj9P5Esu7spMAZA3+72apE++z/N+XMbHvwLQHT8YZUcIfQ/3dUGglsS5T9LVur+Vi8QQF7x1CMNTglAsbp6ul8KBkBCmUaTizH+P3P8qyI3Pvc/yu9+JgzU+T/XF6ZCfq7aPxw5uXx37dw/",
            "dtype": "f8"
           }
          }
         ],
         "name": "2025-08-20 13:48:00"
        },
        {
         "data": [
          {
           "coloraxis": "coloraxis",
           "hovertemplate": "timestamp_str=2025-08-20 13:51:00<br>value=%{z}<br>Lat=%{lat}<br>Long=%{lon}<extra></extra>",
           "lat": {
            "bdata": "V7CNeLIvSkB4R8Zq8y9KQCuk/KTaL0pAomDGFKwvSkAZ6NoX0C9KQNsTJLa7L0pAdck4RrIvSkDMRBFSty9KQPqa5bLRL0pA3EYDeAswSkBdM/lmmy9KQCWQEru2L0pAwFq1a0IwSkDEBaBRujBKQBr8/WK2MEpAaM2Pv7QwSkDFVzuKczBKQMVXO4pzMEpA3soSnWUwSkB7Lei9MTJKQLMKmwEuMkpAEJVGzOwvSkDs3R/vVTNKQLTHC+nwMEpA",
            "dtype": "f8"
           },
           "lon": {
            "bdata": "DtdqD3uRE0C21hcJbZkTQA74/DBCmBNAcOoDyTuXE0A8hPHTuJcTQDEnaJPDlxNAe8A8ZMqXE0Dk9ssnK5YTQAzNdRppmRNAnkFD/wSXE0C+MJkqGJUTQDT4+8VsmRNAjINLx5yXE0B0DTM0npgTQH5S7dPxmBNAUd7H0RyZE0CgbTXrjJ8TQKBtNeuMnxNAEaYol8a/E0AaNV8lH4sTQLNeDOVEixNAoN/3b17ME0DAzeLFwpATQBcP7zmwnBNA",
            "dtype": "f8"
           },
           "name": "",
           "opacity": 0.7,
           "radius": 60,
           "subplot": "mapbox",
           "type": "densitymapbox",
           "z": {
            "bdata": "6UMX1Lf8G0AjoMIRpGIaQPStaqQADANApXM0/cjTCUCjoMofwp4QQDboS29/jgxAQb7fw4DA8j9eH+dHDVf6P46ItToxktI/gfrgxndT9D85ymazjzr9P+T8qOG2MQZA1sbYCS9B+z/pYz4g0PkLQCG98mrKH/Q/2XKy/fkQ5T/ZkY+CTC8QQO/lPjkKUAlAvqPGhJgLBkDV06KZgjD+P9v1d1uOPPc//W+A9KjT+T/JKhm+jabaP7airGOF8Nw/",
            "dtype": "f8"
           }
          }
         ],
         "name": "2025-08-20 13:51:00"
        },
        {
         "data": [
          {
           "coloraxis": "coloraxis",
           "hovertemplate": "timestamp_str=2025-08-20 13:54:00<br>value=%{z}<br>Lat=%{lat}<br>Long=%{lon}<extra></extra>",
           "lat": {
            "bdata": "V7CNeLIvSkB4R8Zq8y9KQCuk/KTaL0pAomDGFKwvSkAZ6NoX0C9KQNsTJLa7L0pAdck4RrIvSkDMRBFSty9KQPqa5bLRL0pA3EYDeAswSkBdM/lmmy9KQCWQEru2L0pAwFq1a0IwSkDEBaBRujBKQBr8/WK2MEpAaM2Pv7QwSkDFVzuKczBKQMVXO4pzMEpA3soSnWUwSkB7Lei9MTJKQLMKmwEuMkpAEJVGzOwvSkDs3R/vVTNKQLTHC+nwMEpA",
            "dtype": "f8"
           },
           "lon": {
            "bdata": "DtdqD3uRE0C21hcJbZkTQA74/DBCmBNAcOoDyTuXE0A8hPHTuJcTQDEnaJPDlxNAe8A8ZMqXE0Dk9ssnK5YTQAzNdRppmRNAnkFD/wSXE0C+MJkqGJUTQDT4+8VsmRNAjINLx5yXE0B0DTM0npgTQH5S7dPxmBNAUd7H0RyZE0CgbTXrjJ8TQKBtNeuMnxNAEaYol8a/E0AaNV8lH4sTQLNeDOVEixNAoN/3b17ME0DAzeLFwpATQBcP7zmwnBNA",
            "dtype": "f8"
           },
           "name": "",
           "opacity": 0.7,
           "radius": 60,
           "subplot": "mapbox",
           "type": "densitymapbox",
           "z": {
            "bdata": "tMpMaf39G0DSwmUVNmMaQEiREEDFDANAeZZ73BLUCUDrjVph+p4QQEb0xqQakQxAj1AzpIrC8j8EEl7M4Fn6P/0AWqlWldI/TjVpCehU9D9De6tktjr9P6abxCCwMgZAGL0JdNw/+z+hxa3d0foLQBHiytk7I/Q/mtmdpK8W5T8c0xOWeDAQQJkprb8lUAlApNgbxu4MBkCgTbPlATH+P34S6cjbO/c/xUoWQa3T+T8E2mffJq3aPzNXYY55+Nw/",
            "dtype": "f8"
           }
          }
         ],
         "name": "2025-08-20 13:54:00"
        },
        {
         "data": [
          {
           "coloraxis": "coloraxis",
           "hovertemplate": "timestamp_str=2025-08-20 13:57:00<br>value=%{z}<br>Lat=%{lat}<br>Long=%{lon}<extra></extra>",
           "lat": {
            "bdata": "V7CNeLIvSkB4R8Zq8y9KQCuk/KTaL0pAomDGFKwvSkAZ6NoX0C9KQNsTJLa7L0pAdck4RrIvSkDMRBFSty9KQPqa5bLRL0pA3EYDeAswSkBdM/lmmy9KQCWQEru2L0pAwFq1a0IwSkDEBaBRujBKQBr8/WK2MEpAaM2Pv7QwSkDFVzuKczBKQMVXO4pzMEpA3soSnWUwSkB7Lei9MTJKQLMKmwEuMkpAEJVGzOwvSkDs3R/vVTNKQLTHC+nwMEpA",
            "dtype": "f8"
           },
           "lon": {
            "bdata": "DtdqD3uRE0C21hcJbZkTQA74/DBCmBNAcOoDyTuXE0A8hPHTuJcTQDEnaJPDlxNAe8A8ZMqXE0Dk9ssnK5YTQAzNdRppmRNAnkFD/wSXE0C+MJkqGJUTQDT4+8VsmRNAjINLx5yXE0B0DTM0npgTQH5S7dPxmBNAUd7H0RyZE0CgbTXrjJ8TQKBtNeuMnxNAEaYol8a/E0AaNV8lH4sTQLNeDOVEixNAoN/3b17ME0DAzeLFwpATQBcP7zmwnBNA",
            "dtype": "f8"
           },
           "name": "",
           "opacity": 0.7,
           "radius": 60,
           "subplot": "mapbox",
           "type": "densitymapbox",
           "z": {
            "bdata": "mj474LpKHEDlXmBWKPogQG9uAsI91Q1Ax5BSv8FtE0AxQ+OJII4cQMPYQpCDkhNAFLLzNja79D/NRTKaS6ABQLlSEZ8iJMO/LGi1G9iVBEBDR2HNt3T7PxRM6yV8FQNASLqwf+izD0C6cHvdfYkOQFwf1hu1UgBArBfof17d5D8/VYUGYjkYQLXeb7TjpgNAoK3ePDD7BUBJVF7hE5EKQPP0W4XezPY/5Mi5Aytd+D/nXEAesMHmPy/s3d3SA+o/",
            "dtype": "f8"
           }
          }
         ],
         "name": "2025-08-20 13:57:00"
        },
        {
         "data": [
          {
           "coloraxis": "coloraxis",
           "hovertemplate": "timestamp_str=2025-08-20 14:00:00<br>value=%{z}<br>Lat=%{lat}<br>Long=%{lon}<extra></extra>",
           "lat": {
            "bdata": "V7CNeLIvSkB4R8Zq8y9KQCuk/KTaL0pAomDGFKwvSkAZ6NoX0C9KQNsTJLa7L0pAdck4RrIvSkDMRBFSty9KQPqa5bLRL0pA3EYDeAswSkBdM/lmmy9KQCWQEru2L0pAwFq1a0IwSkDEBaBRujBKQBr8/WK2MEpAaM2Pv7QwSkDFVzuKczBKQMVXO4pzMEpA3soSnWUwSkB7Lei9MTJKQLMKmwEuMkpAEJVGzOwvSkDs3R/vVTNKQLTHC+nwMEpA",
            "dtype": "f8"
           },
           "lon": {
            "bdata": "DtdqD3uRE0C21hcJbZkTQA74/DBCmBNAcOoDyTuXE0A8hPHTuJcTQDEnaJPDlxNAe8A8ZMqXE0Dk9ssnK5YTQAzNdRppmRNAnkFD/wSXE0C+MJkqGJUTQDT4+8VsmRNAjINLx5yXE0B0DTM0npgTQH5S7dPxmBNAUd7H0RyZE0CgbTXrjJ8TQKBtNeuMnxNAEaYol8a/E0AaNV8lH4sTQLNeDOVEixNAoN/3b17ME0DAzeLFwpATQBcP7zmwnBNA",
            "dtype": "f8"
           },
           "name": "",
           "opacity": 0.7,
           "radius": 60,
           "subplot": "mapbox",
           "type": "densitymapbox",
           "z": {
            "bdata": "uynltRJKHEDWjXdHxvogQNrwqr0+2Q1Au/JZngdvE0Ad2abC6Y4cQIyiBz4GkxNAD0dX6e669D8NG2X9ZqIBQHKppRTPNMO/koWegx2VBEAGKLJ7l3f7PywujspNFANAMR3fg3y1D0DpBH6eUIkOQNTVHYttUgBAArnln/Dk5D9vKlJhbDkYQLvtQnOdpgNAM8NGWb/5BUCmm8QgsJIKQHDlkeRexfY/S2GUVjJW+D8mSoyvh8DmP/Nnid9eA+o/",
            "dtype": "f8"
           }
          }
         ],
         "name": "2025-08-20 14:00:00"
        },
        {
         "data": [
          {
           "coloraxis": "coloraxis",
           "hovertemplate": "timestamp_str=2025-08-20 14:03:00<br>value=%{z}<br>Lat=%{lat}<br>Long=%{lon}<extra></extra>",
           "lat": {
            "bdata": "V7CNeLIvSkB4R8Zq8y9KQCuk/KTaL0pAomDGFKwvSkAZ6NoX0C9KQNsTJLa7L0pAdck4RrIvSkDMRBFSty9KQPqa5bLRL0pA3EYDeAswSkBdM/lmmy9KQCWQEru2L0pAwFq1a0IwSkDEBaBRujBKQBr8/WK2MEpAaM2Pv7QwSkDFVzuKczBKQMVXO4pzMEpA3soSnWUwSkB7Lei9MTJKQLMKmwEuMkpAEJVGzOwvSkDs3R/vVTNKQLTHC+nwMEpA",
            "dtype": "f8"
           },
           "lon": {
            "bdata": "DtdqD3uRE0C21hcJbZkTQA74/DBCmBNAcOoDyTuXE0A8hPHTuJcTQDEnaJPDlxNAe8A8ZMqXE0Dk9ssnK5YTQAzNdRppmRNAnkFD/wSXE0C+MJkqGJUTQDT4+8VsmRNAjINLx5yXE0B0DTM0npgTQH5S7dPxmBNAUd7H0RyZE0CgbTXrjJ8TQKBtNeuMnxNAEaYol8a/E0AaNV8lH4sTQLNeDOVEixNAoN/3b17ME0DAzeLFwpATQBcP7zmwnBNA",
            "dtype": "f8"
           },
           "name": "",
           "opacity": 0.7,
           "radius": 60,
           "subplot": "mapbox",
           "type": "densitymapbox",
           "z": {
            "bdata": "lrIMcaxLHECpMoy7QfwgQJhuEoPA2g1AaafmcoNxE0A1RBX+DI8cQMIbLWIzkxNALOOV2kG79D9w260bpaEBQAWPZ37SXMO/aVch5SeVBEBQV9LlKHv7PwV68vrdFQNAGk6Zm2+0D0C+TurL0o4OQBuDTggdVABAMTDhhs7h5D/lDMUdbzoYQOsaLQd6qANAOz975MX4BUD++0J+7JQKQKp8z0iExvY/cSQrGsZY+D/dSPK/CcPmP6VrgZjfBOo/",
            "dtype": "f8"
           }
          }
         ],
         "name": "2025-08-20 14:03:00"
        },
        {
         "data": [
          {
           "coloraxis": "coloraxis",
           "hovertemplate": "timestamp_str=2025-08-20 14:06:00<br>value=%{z}<br>Lat=%{lat}<br>Long=%{lon}<extra></extra>",
           "lat": {
            "bdata": "V7CNeLIvSkB4R8Zq8y9KQCuk/KTaL0pAomDGFKwvSkAZ6NoX0C9KQNsTJLa7L0pAdck4RrIvSkDMRBFSty9KQPqa5bLRL0pA3EYDeAswSkBdM/lmmy9KQCWQEru2L0pAwFq1a0IwSkDEBaBRujBKQBr8/WK2MEpAaM2Pv7QwSkDFVzuKczBKQMVXO4pzMEpA3soSnWUwSkB7Lei9MTJKQLMKmwEuMkpAEJVGzOwvSkDs3R/vVTNKQLTHC+nwMEpA",
            "dtype": "f8"
           },
           "lon": {
            "bdata": "DtdqD3uRE0C21hcJbZkTQA74/DBCmBNAcOoDyTuXE0A8hPHTuJcTQDEnaJPDlxNAe8A8ZMqXE0Dk9ssnK5YTQAzNdRppmRNAnkFD/wSXE0C+MJkqGJUTQDT4+8VsmRNAjINLx5yXE0B0DTM0npgTQH5S7dPxmBNAUd7H0RyZE0CgbTXrjJ8TQKBtNeuMnxNAEaYol8a/E0AaNV8lH4sTQLNeDOVEixNAoN/3b17ME0DAzeLFwpATQBcP7zmwnBNA",
            "dtype": "f8"
           },
           "name": "",
           "opacity": 0.7,
           "radius": 60,
           "subplot": "mapbox",
           "type": "densitymapbox",
           "z": {
            "bdata": "JVgczvxqHED3bwPjhckfQNbcdkYATApAd/cA3ZfrE0CAImC+Bk4XQKX1twTgDxFAmrqGdNMB8D94YtaLoVwCQFgCSr9UntS/DdHX4gnDAkAzB/e5kL35P12rmKX48wBAkcyPZPtFBkD8OJojK+8TQKeFgZ1R6QFAJ7UfQr8j6z/ahpudVvsUQHk8LT9wpQNA5m22A7/HA0CDyH0GLxUJQIOKql/pXPE/3m2Df7Ya9T8Bd48iIWDsP+jTz0DRwec/",
            "dtype": "f8"
           }
          }
         ],
         "name": "2025-08-20 14:06:00"
        },
        {
         "data": [
          {
           "coloraxis": "coloraxis",
           "hovertemplate": "timestamp_str=2025-08-20 14:09:00<br>value=%{z}<br>Lat=%{lat}<br>Long=%{lon}<extra></extra>",
           "lat": {
            "bdata": "V7CNeLIvSkB4R8Zq8y9KQCuk/KTaL0pAomDGFKwvSkAZ6NoX0C9KQNsTJLa7L0pAdck4RrIvSkDMRBFSty9KQPqa5bLRL0pA3EYDeAswSkBdM/lmmy9KQCWQEru2L0pAwFq1a0IwSkDEBaBRujBKQBr8/WK2MEpAaM2Pv7QwSkDFVzuKczBKQMVXO4pzMEpA3soSnWUwSkB7Lei9MTJKQLMKmwEuMkpAEJVGzOwvSkDs3R/vVTNKQLTHC+nwMEpA",
            "dtype": "f8"
           },
           "lon": {
            "bdata": "DtdqD3uRE0C21hcJbZkTQA74/DBCmBNAcOoDyTuXE0A8hPHTuJcTQDEnaJPDlxNAe8A8ZMqXE0Dk9ssnK5YTQAzNdRppmRNAnkFD/wSXE0C+MJkqGJUTQDT4+8VsmRNAjINLx5yXE0B0DTM0npgTQH5S7dPxmBNAUd7H0RyZE0CgbTXrjJ8TQKBtNeuMnxNAEaYol8a/E0AaNV8lH4sTQLNeDOVEixNAoN/3b17ME0DAzeLFwpATQBcP7zmwnBNA",
            "dtype": "f8"
           },
           "name": "",
           "opacity": 0.7,
           "radius": 60,
           "subplot": "mapbox",
           "type": "densitymapbox",
           "z": {
            "bdata": "dVq3Qe1vHEBG7unqjtUfQMKWaNoPUgpAcVevIqPzE0AAVHHjFlMXQMcjAh/NEhFAYOY7+IkD8D8n2epySmACQMVqmEY40tS/fsxivazEAkD4SVqWVNL5P3/po0Ir9gBAFmniHeBJBkA43Q39bvUTQLam1ICc6wFA1n7ffV0f6z9tWb4uw/8UQDoHz4QmqQNAaFw4EJLFA0BewZGbPCAJQHldGhqqXfE/AZ/EjJUd9T98rGxhDmnsP6+Tn/lBwuc/",
            "dtype": "f8"
           }
          }
         ],
         "name": "2025-08-20 14:09:00"
        },
        {
         "data": [
          {
           "coloraxis": "coloraxis",
           "hovertemplate": "timestamp_str=2025-08-20 14:12:00<br>value=%{z}<br>Lat=%{lat}<br>Long=%{lon}<extra></extra>",
           "lat": {
            "bdata": "V7CNeLIvSkB4R8Zq8y9KQCuk/KTaL0pAomDGFKwvSkAZ6NoX0C9KQNsTJLa7L0pAdck4RrIvSkDMRBFSty9KQPqa5bLRL0pA3EYDeAswSkBdM/lmmy9KQCWQEru2L0pAwFq1a0IwSkDEBaBRujBKQBr8/WK2MEpAaM2Pv7QwSkDFVzuKczBKQMVXO4pzMEpA3soSnWUwSkB7Lei9MTJKQLMKmwEuMkpAEJVGzOwvSkDs3R/vVTNKQLTHC+nwMEpA",
            "dtype": "f8"
           },
           "lon": {
            "bdata": "DtdqD3uRE0C21hcJbZkTQA74/DBCmBNAcOoDyTuXE0A8hPHTuJcTQDEnaJPDlxNAe8A8ZMqXE0Dk9ssnK5YTQAzNdRppmRNAnkFD/wSXE0C+MJkqGJUTQDT4+8VsmRNAjINLx5yXE0B0DTM0npgTQH5S7dPxmBNAUd7H0RyZE0CgbTXrjJ8TQKBtNeuMnxNAEaYol8a/E0AaNV8lH4sTQLNeDOVEixNAoN/3b17ME0DAzeLFwpATQBcP7zmwnBNA",
            "dtype": "f8"
           },
           "name": "",
           "opacity": 0.7,
           "radius": 60,
           "subplot": "mapbox",
           "type": "densitymapbox",
           "z": {
            "bdata": "c9ML4xNvHEBHy4EeatMfQD0hhfx9UApA1Ce5wybyE0DUQJiABFIXQPgHgODgERFAQx1WuOUD8D9zU7k/zV8CQIrl+YD+ytS/xMPFm0bEAkCqhe2CHM/5P6BP5EnS9QBATOKsiJpIBkA9TFagcfQTQOmyPR8K6wFAnQgsyrYd6z/ll2ZfHv8UQP3AVZ5AqANABkAmY8bFA0BhOZ2/ZB4JQE1D+SddX/E/R8hAnl0e9T/K3HwjumfsP2QCfo0kwec/",
            "dtype": "f8"
           }
          }
         ],
         "name": "2025-08-20 14:12:00"
        },
        {
         "data": [
          {
           "coloraxis": "coloraxis",
           "hovertemplate": "timestamp_str=2025-08-20 14:15:00<br>value=%{z}<br>Lat=%{lat}<br>Long=%{lon}<extra></extra>",
           "lat": {
            "bdata": "V7CNeLIvSkB4R8Zq8y9KQCuk/KTaL0pAomDGFKwvSkAZ6NoX0C9KQNsTJLa7L0pAdck4RrIvSkDMRBFSty9KQPqa5bLRL0pA3EYDeAswSkBdM/lmmy9KQCWQEru2L0pAwFq1a0IwSkDEBaBRujBKQBr8/WK2MEpAaM2Pv7QwSkDFVzuKczBKQMVXO4pzMEpA3soSnWUwSkB7Lei9MTJKQLMKmwEuMkpAEJVGzOwvSkDs3R/vVTNKQLTHC+nwMEpA",
            "dtype": "f8"
           },
           "lon": {
            "bdata": "DtdqD3uRE0C21hcJbZkTQA74/DBCmBNAcOoDyTuXE0A8hPHTuJcTQDEnaJPDlxNAe8A8ZMqXE0Dk9ssnK5YTQAzNdRppmRNAnkFD/wSXE0C+MJkqGJUTQDT4+8VsmRNAjINLx5yXE0B0DTM0npgTQH5S7dPxmBNAUd7H0RyZE0CgbTXrjJ8TQKBtNeuMnxNAEaYol8a/E0AaNV8lH4sTQLNeDOVEixNAoN/3b17ME0DAzeLFwpATQBcP7zmwnBNA",
            "dtype": "f8"
           },
           "name": "",
           "opacity": 0.7,
           "radius": 60,
           "subplot": "mapbox",
           "type": "densitymapbox",
           "z": {
            "bdata": "pdjRONS/GUDtKM5RRxcfQGBbP/1nzQxAuOS4UzpoEUCjrrX3qYobQChlrfyN4RJAx7yOOGTj8j/nps04DZEBQIrJ6ybQ3oM/m/LXGgCwA0AoSp3b3/T4Pykr4WR20QBA8aTghJ1dD0BrFO2FXQ8KQBjEUQMXFf4/HUis/1Iq6D/x2M9iKZoWQIuwl1x71QFAlmXjHNDtBEDjdVg8UHIIQDJuD+eGy/E/qqQEs/jj8j9fninPF1bkP1SgYBCihug/",
            "dtype": "f8"
           }
          }
         ],
         "name": "2025-08-20 14:15:00"
        },
        {
         "data": [
          {
           "coloraxis": "coloraxis",
           "hovertemplate": "timestamp_str=2025-08-20 14:18:00<br>value=%{z}<br>Lat=%{lat}<br>Long=%{lon}<extra></extra>",
           "lat": {
            "bdata": "V7CNeLIvSkB4R8Zq8y9KQCuk/KTaL0pAomDGFKwvSkAZ6NoX0C9KQNsTJLa7L0pAdck4RrIvSkDMRBFSty9KQPqa5bLRL0pA3EYDeAswSkBdM/lmmy9KQCWQEru2L0pAwFq1a0IwSkDEBaBRujBKQBr8/WK2MEpAaM2Pv7QwSkDFVzuKczBKQMVXO4pzMEpA3soSnWUwSkB7Lei9MTJKQLMKmwEuMkpAEJVGzOwvSkDs3R/vVTNKQLTHC+nwMEpA",
            "dtype": "f8"
           },
           "lon": {
            "bdata": "DtdqD3uRE0C21hcJbZkTQA74/DBCmBNAcOoDyTuXE0A8hPHTuJcTQDEnaJPDlxNAe8A8ZMqXE0Dk9ssnK5YTQAzNdRppmRNAnkFD/wSXE0C+MJkqGJUTQDT4+8VsmRNAjINLx5yXE0B0DTM0npgTQH5S7dPxmBNAUd7H0RyZE0CgbTXrjJ8TQKBtNeuMnxNAEaYol8a/E0AaNV8lH4sTQLNeDOVEixNAoN/3b17ME0DAzeLFwpATQBcP7zmwnBNA",
            "dtype": "f8"
           },
           "name": "",
           "opacity": 0.7,
           "radius": 60,
           "subplot": "mapbox",
           "type": "densitymapbox",
           "z": {
            "bdata": "vr9Be/XBGUDLuRRXlR0fQNmXbDzY0gxAck7soX1sEUCu8C4X8Y0bQKVSRyKP4xJA7lutE5fj8j/H2XQEcJMBQDoV978m4oA/8mK8QQ+wA0AUr7K2Kf74P5Cyj1+J0QBA0a3X9KBgD0CqWhzfKBMKQI+RR8vcF/4/SrN5HAYz6D945i8+FpwWQFBaE2Y12AFAnoplRLPsBEBEjgghe3gIQNmPudfuw/E/GaO/4U/e8j9WdupfzFXkPzfLfkAUiug/",
            "dtype": "f8"
           }
          }
         ],
         "name": "2025-08-20 14:18:00"
        },
        {
         "data": [
          {
           "coloraxis": "coloraxis",
           "hovertemplate": "timestamp_str=2025-08-20 14:21:00<br>value=%{z}<br>Lat=%{lat}<br>Long=%{lon}<extra></extra>",
           "lat": {
            "bdata": "V7CNeLIvSkB4R8Zq8y9KQCuk/KTaL0pAomDGFKwvSkAZ6NoX0C9KQNsTJLa7L0pAdck4RrIvSkDMRBFSty9KQPqa5bLRL0pA3EYDeAswSkBdM/lmmy9KQCWQEru2L0pAwFq1a0IwSkDEBaBRujBKQBr8/WK2MEpAaM2Pv7QwSkDFVzuKczBKQMVXO4pzMEpA3soSnWUwSkB7Lei9MTJKQLMKmwEuMkpAEJVGzOwvSkDs3R/vVTNKQLTHC+nwMEpA",
            "dtype": "f8"
           },
           "lon": {
            "bdata": "DtdqD3uRE0C21hcJbZkTQA74/DBCmBNAcOoDyTuXE0A8hPHTuJcTQDEnaJPDlxNAe8A8ZMqXE0Dk9ssnK5YTQAzNdRppmRNAnkFD/wSXE0C+MJkqGJUTQDT4+8VsmRNAjINLx5yXE0B0DTM0npgTQH5S7dPxmBNAUd7H0RyZE0CgbTXrjJ8TQKBtNeuMnxNAEaYol8a/E0AaNV8lH4sTQLNeDOVEixNAoN/3b17ME0DAzeLFwpATQBcP7zmwnBNA",
            "dtype": "f8"
           },
           "name": "",
           "opacity": 0.7,
           "radius": 60,
           "subplot": "mapbox",
           "type": "densitymapbox",
           "z": {
            "bdata": "t17Tg4LCGUChoX+Cix0fQDH7Kxoh0gxAIzKs4o1sEUDL2xFOC44bQFoVPOAV5BJA9poeFJTi8j9YDuMkg5IBQHhMF0HnXoE/s3J5vUWxA0DNLimIy/v4P8Zdc/1x0QBA4zYawFtgD0APqh56nBMKQDr3DQLhGf4/2Li8Qc0z6D+05sdfWpwWQCOHiJtT2QFAMcc8PJXtBEDQZP88DXgIQIx5Z/7iw/E/j+eOWVHe8j8k5XodaVfkP93ZDZGJiug/",
            "dtype": "f8"
           }
          }
         ],
         "name": "2025-08-20 14:21:00"
        },
        {
         "data": [
          {
           "coloraxis": "coloraxis",
           "hovertemplate": "timestamp_str=2025-08-20 14:24:00<br>value=%{z}<br>Lat=%{lat}<br>Long=%{lon}<extra></extra>",
           "lat": {
            "bdata": "V7CNeLIvSkB4R8Zq8y9KQCuk/KTaL0pAomDGFKwvSkAZ6NoX0C9KQNsTJLa7L0pAdck4RrIvSkDMRBFSty9KQPqa5bLRL0pA3EYDeAswSkBdM/lmmy9KQCWQEru2L0pAwFq1a0IwSkDEBaBRujBKQBr8/WK2MEpAaM2Pv7QwSkDFVzuKczBKQMVXO4pzMEpA3soSnWUwSkB7Lei9MTJKQLMKmwEuMkpAEJVGzOwvSkDs3R/vVTNKQLTHC+nwMEpA",
            "dtype": "f8"
           },
           "lon": {
            "bdata": "DtdqD3uRE0C21hcJbZkTQA74/DBCmBNAcOoDyTuXE0A8hPHTuJcTQDEnaJPDlxNAe8A8ZMqXE0Dk9ssnK5YTQAzNdRppmRNAnkFD/wSXE0C+MJkqGJUTQDT4+8VsmRNAjINLx5yXE0B0DTM0npgTQH5S7dPxmBNAUd7H0RyZE0CgbTXrjJ8TQKBtNeuMnxNAEaYol8a/E0AaNV8lH4sTQLNeDOVEixNAoN/3b17ME0DAzeLFwpATQBcP7zmwnBNA",
            "dtype": "f8"
           },
           "name": "",
           "opacity": 0.7,
           "radius": 60,
           "subplot": "mapbox",
           "type": "densitymapbox",
           "z": {
            "bdata": "7gT7r3PDGUBVIwVgTR8fQHb/s0GB0gxA3bbvUX9tEUDt0obD0pAbQBWNtb+z5RJA58OzBBnh8j8W7qalA5MBQJzVMLM3R4E/185B4f2yA0AceouH9/z4P0uMCkGz0ABAStBf6BFjD0DV4MfiSBEKQJW/1gAAG/4/5DvnXasz6D97QytBkJ0WQJ0OZD212gFA0t0afXHuBEDNeFvptXkIQGFgDJu3wPE/tnzJa8ra8j/RvfuhoVjkP8HbzZ2qjOg/",
            "dtype": "f8"
           }
          }
         ],
         "name": "2025-08-20 14:24:00"
        },
        {
         "data": [
          {
           "coloraxis": "coloraxis",
           "hovertemplate": "timestamp_str=2025-08-20 14:27:00<br>value=%{z}<br>Lat=%{lat}<br>Long=%{lon}<extra></extra>",
           "lat": {
            "bdata": "V7CNeLIvSkB4R8Zq8y9KQCuk/KTaL0pAomDGFKwvSkAZ6NoX0C9KQNsTJLa7L0pAdck4RrIvSkDMRBFSty9KQPqa5bLRL0pA3EYDeAswSkBdM/lmmy9KQCWQEru2L0pAwFq1a0IwSkDEBaBRujBKQBr8/WK2MEpAaM2Pv7QwSkDFVzuKczBKQMVXO4pzMEpA3soSnWUwSkB7Lei9MTJKQLMKmwEuMkpAEJVGzOwvSkDs3R/vVTNKQLTHC+nwMEpA",
            "dtype": "f8"
           },
           "lon": {
            "bdata": "DtdqD3uRE0C21hcJbZkTQA74/DBCmBNAcOoDyTuXE0A8hPHTuJcTQDEnaJPDlxNAe8A8ZMqXE0Dk9ssnK5YTQAzNdRppmRNAnkFD/wSXE0C+MJkqGJUTQDT4+8VsmRNAjINLx5yXE0B0DTM0npgTQH5S7dPxmBNAUd7H0RyZE0CgbTXrjJ8TQKBtNeuMnxNAEaYol8a/E0AaNV8lH4sTQLNeDOVEixNAoN/3b17ME0DAzeLFwpATQBcP7zmwnBNA",
            "dtype": "f8"
           },
           "name": "",
           "opacity": 0.7,
           "radius": 60,
           "subplot": "mapbox",
           "type": "densitymapbox",
           "z": {
            "bdata": "iuPAq+UeIEDarWUyHL8hQAsvHGOC1QpACQrNv6cDFUCYhuEjYioYQI6zRMJSMBJAk+ANaVRA9D+rfCoC9xf+P5lwXIQxe9W/ax88JMY8AUCoy70bZhMAQN0P0xlzEgdA7uKi/4rBBkAQkgVM4MYTQNGsEWZ/tQBAKmFcYEWc4T+InpRJDa0WQH2ApD5/UAlAJefEHtonBkCb75aa8zIJQCD3Y0lvjvw/uU+OAkSBAEAEI4ok1ZLpPzymSYShKeg/",
            "dtype": "f8"
           }
          }
         ],
         "name": "2025-08-20 14:27:00"
        }
       ],
       "layout": {
        "coloraxis": {
         "colorbar": {
          "title": {
           "text": "value"
          }
         },
         "colorscale": [
          [
           0,
           "rgb(255,255,204)"
          ],
          [
           0.125,
           "rgb(255,237,160)"
          ],
          [
           0.25,
           "rgb(254,217,118)"
          ],
          [
           0.375,
           "rgb(254,178,76)"
          ],
          [
           0.5,
           "rgb(253,141,60)"
          ],
          [
           0.625,
           "rgb(252,78,42)"
          ],
          [
           0.75,
           "rgb(227,26,28)"
          ],
          [
           0.875,
           "rgb(189,0,38)"
          ],
          [
           1,
           "rgb(128,0,38)"
          ]
         ]
        },
        "height": 720,
        "legend": {
         "tracegroupgap": 0
        },
        "mapbox": {
         "center": {
          "lat": 52.372,
          "lon": 4.9
         },
         "domain": {
          "x": [
           0,
           1
          ],
          "y": [
           0,
           1
          ]
         },
         "style": "carto-positron",
         "zoom": 10
        },
        "margin": {
         "b": 0,
         "l": 0,
         "r": 0,
         "t": 30
        },
        "sliders": [
         {
          "active": 0,
          "currentvalue": {
           "prefix": "timestamp_str="
          },
          "len": 0.9,
          "pad": {
           "b": 10,
           "t": 60
          },
          "steps": [
           {
            "args": [
             [
              "2025-08-20 13:00:00"
             ],
             {
              "frame": {
               "duration": 0,
               "redraw": true
              },
              "fromcurrent": true,
              "mode": "immediate",
              "transition": {
               "duration": 0,
               "easing": "linear"
              }
             }
            ],
            "label": "2025-08-20 13:00:00",
            "method": "animate"
           },
           {
            "args": [
             [
              "2025-08-20 13:03:00"
             ],
             {
              "frame": {
               "duration": 0,
               "redraw": true
              },
              "fromcurrent": true,
              "mode": "immediate",
              "transition": {
               "duration": 0,
               "easing": "linear"
              }
             }
            ],
            "label": "2025-08-20 13:03:00",
            "method": "animate"
           },
           {
            "args": [
             [
              "2025-08-20 13:06:00"
             ],
             {
              "frame": {
               "duration": 0,
               "redraw": true
              },
              "fromcurrent": true,
              "mode": "immediate",
              "transition": {
               "duration": 0,
               "easing": "linear"
              }
             }
            ],
            "label": "2025-08-20 13:06:00",
            "method": "animate"
           },
           {
            "args": [
             [
              "2025-08-20 13:09:00"
             ],
             {
              "frame": {
               "duration": 0,
               "redraw": true
              },
              "fromcurrent": true,
              "mode": "immediate",
              "transition": {
               "duration": 0,
               "easing": "linear"
              }
             }
            ],
            "label": "2025-08-20 13:09:00",
            "method": "animate"
           },
           {
            "args": [
             [
              "2025-08-20 13:12:00"
             ],
             {
              "frame": {
               "duration": 0,
               "redraw": true
              },
              "fromcurrent": true,
              "mode": "immediate",
              "transition": {
               "duration": 0,
               "easing": "linear"
              }
             }
            ],
            "label": "2025-08-20 13:12:00",
            "method": "animate"
           },
           {
            "args": [
             [
              "2025-08-20 13:15:00"
             ],
             {
              "frame": {
               "duration": 0,
               "redraw": true
              },
              "fromcurrent": true,
              "mode": "immediate",
              "transition": {
               "duration": 0,
               "easing": "linear"
              }
             }
            ],
            "label": "2025-08-20 13:15:00",
            "method": "animate"
           },
           {
            "args": [
             [
              "2025-08-20 13:18:00"
             ],
             {
              "frame": {
               "duration": 0,
               "redraw": true
              },
              "fromcurrent": true,
              "mode": "immediate",
              "transition": {
               "duration": 0,
               "easing": "linear"
              }
             }
            ],
            "label": "2025-08-20 13:18:00",
            "method": "animate"
           },
           {
            "args": [
             [
              "2025-08-20 13:21:00"
             ],
             {
              "frame": {
               "duration": 0,
               "redraw": true
              },
              "fromcurrent": true,
              "mode": "immediate",
              "transition": {
               "duration": 0,
               "easing": "linear"
              }
             }
            ],
            "label": "2025-08-20 13:21:00",
            "method": "animate"
           },
           {
            "args": [
             [
              "2025-08-20 13:24:00"
             ],
             {
              "frame": {
               "duration": 0,
               "redraw": true
              },
              "fromcurrent": true,
              "mode": "immediate",
              "transition": {
               "duration": 0,
               "easing": "linear"
              }
             }
            ],
            "label": "2025-08-20 13:24:00",
            "method": "animate"
           },
           {
            "args": [
             [
              "2025-08-20 13:27:00"
             ],
             {
              "frame": {
               "duration": 0,
               "redraw": true
              },
              "fromcurrent": true,
              "mode": "immediate",
              "transition": {
               "duration": 0,
               "easing": "linear"
              }
             }
            ],
            "label": "2025-08-20 13:27:00",
            "method": "animate"
           },
           {
            "args": [
             [
              "2025-08-20 13:30:00"
             ],
             {
              "frame": {
               "duration": 0,
               "redraw": true
              },
              "fromcurrent": true,
              "mode": "immediate",
              "transition": {
               "duration": 0,
               "easing": "linear"
              }
             }
            ],
            "label": "2025-08-20 13:30:00",
            "method": "animate"
           },
           {
            "args": [
             [
              "2025-08-20 13:33:00"
             ],
             {
              "frame": {
               "duration": 0,
               "redraw": true
              },
              "fromcurrent": true,
              "mode": "immediate",
              "transition": {
               "duration": 0,
               "easing": "linear"
              }
             }
            ],
            "label": "2025-08-20 13:33:00",
            "method": "animate"
           },
           {
            "args": [
             [
              "2025-08-20 13:36:00"
             ],
             {
              "frame": {
               "duration": 0,
               "redraw": true
              },
              "fromcurrent": true,
              "mode": "immediate",
              "transition": {
               "duration": 0,
               "easing": "linear"
              }
             }
            ],
            "label": "2025-08-20 13:36:00",
            "method": "animate"
           },
           {
            "args": [
             [
              "2025-08-20 13:39:00"
             ],
             {
              "frame": {
               "duration": 0,
               "redraw": true
              },
              "fromcurrent": true,
              "mode": "immediate",
              "transition": {
               "duration": 0,
               "easing": "linear"
              }
             }
            ],
            "label": "2025-08-20 13:39:00",
            "method": "animate"
           },
           {
            "args": [
             [
              "2025-08-20 13:42:00"
             ],
             {
              "frame": {
               "duration": 0,
               "redraw": true
              },
              "fromcurrent": true,
              "mode": "immediate",
              "transition": {
               "duration": 0,
               "easing": "linear"
              }
             }
            ],
            "label": "2025-08-20 13:42:00",
            "method": "animate"
           },
           {
            "args": [
             [
              "2025-08-20 13:45:00"
             ],
             {
              "frame": {
               "duration": 0,
               "redraw": true
              },
              "fromcurrent": true,
              "mode": "immediate",
              "transition": {
               "duration": 0,
               "easing": "linear"
              }
             }
            ],
            "label": "2025-08-20 13:45:00",
            "method": "animate"
           },
           {
            "args": [
             [
              "2025-08-20 13:48:00"
             ],
             {
              "frame": {
               "duration": 0,
               "redraw": true
              },
              "fromcurrent": true,
              "mode": "immediate",
              "transition": {
               "duration": 0,
               "easing": "linear"
              }
             }
            ],
            "label": "2025-08-20 13:48:00",
            "method": "animate"
           },
           {
            "args": [
             [
              "2025-08-20 13:51:00"
             ],
             {
              "frame": {
               "duration": 0,
               "redraw": true
              },
              "fromcurrent": true,
              "mode": "immediate",
              "transition": {
               "duration": 0,
               "easing": "linear"
              }
             }
            ],
            "label": "2025-08-20 13:51:00",
            "method": "animate"
           },
           {
            "args": [
             [
              "2025-08-20 13:54:00"
             ],
             {
              "frame": {
               "duration": 0,
               "redraw": true
              },
              "fromcurrent": true,
              "mode": "immediate",
              "transition": {
               "duration": 0,
               "easing": "linear"
              }
             }
            ],
            "label": "2025-08-20 13:54:00",
            "method": "animate"
           },
           {
            "args": [
             [
              "2025-08-20 13:57:00"
             ],
             {
              "frame": {
               "duration": 0,
               "redraw": true
              },
              "fromcurrent": true,
              "mode": "immediate",
              "transition": {
               "duration": 0,
               "easing": "linear"
              }
             }
            ],
            "label": "2025-08-20 13:57:00",
            "method": "animate"
           },
           {
            "args": [
             [
              "2025-08-20 14:00:00"
             ],
             {
              "frame": {
               "duration": 0,
               "redraw": true
              },
              "fromcurrent": true,
              "mode": "immediate",
              "transition": {
               "duration": 0,
               "easing": "linear"
              }
             }
            ],
            "label": "2025-08-20 14:00:00",
            "method": "animate"
           },
           {
            "args": [
             [
              "2025-08-20 14:03:00"
             ],
             {
              "frame": {
               "duration": 0,
               "redraw": true
              },
              "fromcurrent": true,
              "mode": "immediate",
              "transition": {
               "duration": 0,
               "easing": "linear"
              }
             }
            ],
            "label": "2025-08-20 14:03:00",
            "method": "animate"
           },
           {
            "args": [
             [
              "2025-08-20 14:06:00"
             ],
             {
              "frame": {
               "duration": 0,
               "redraw": true
              },
              "fromcurrent": true,
              "mode": "immediate",
              "transition": {
               "duration": 0,
               "easing": "linear"
              }
             }
            ],
            "label": "2025-08-20 14:06:00",
            "method": "animate"
           },
           {
            "args": [
             [
              "2025-08-20 14:09:00"
             ],
             {
              "frame": {
               "duration": 0,
               "redraw": true
              },
              "fromcurrent": true,
              "mode": "immediate",
              "transition": {
               "duration": 0,
               "easing": "linear"
              }
             }
            ],
            "label": "2025-08-20 14:09:00",
            "method": "animate"
           },
           {
            "args": [
             [
              "2025-08-20 14:12:00"
             ],
             {
              "frame": {
               "duration": 0,
               "redraw": true
              },
              "fromcurrent": true,
              "mode": "immediate",
              "transition": {
               "duration": 0,
               "easing": "linear"
              }
             }
            ],
            "label": "2025-08-20 14:12:00",
            "method": "animate"
           },
           {
            "args": [
             [
              "2025-08-20 14:15:00"
             ],
             {
              "frame": {
               "duration": 0,
               "redraw": true
              },
              "fromcurrent": true,
              "mode": "immediate",
              "transition": {
               "duration": 0,
               "easing": "linear"
              }
             }
            ],
            "label": "2025-08-20 14:15:00",
            "method": "animate"
           },
           {
            "args": [
             [
              "2025-08-20 14:18:00"
             ],
             {
              "frame": {
               "duration": 0,
               "redraw": true
              },
              "fromcurrent": true,
              "mode": "immediate",
              "transition": {
               "duration": 0,
               "easing": "linear"
              }
             }
            ],
            "label": "2025-08-20 14:18:00",
            "method": "animate"
           },
           {
            "args": [
             [
              "2025-08-20 14:21:00"
             ],
             {
              "frame": {
               "duration": 0,
               "redraw": true
              },
              "fromcurrent": true,
              "mode": "immediate",
              "transition": {
               "duration": 0,
               "easing": "linear"
              }
             }
            ],
            "label": "2025-08-20 14:21:00",
            "method": "animate"
           },
           {
            "args": [
             [
              "2025-08-20 14:24:00"
             ],
             {
              "frame": {
               "duration": 0,
               "redraw": true
              },
              "fromcurrent": true,
              "mode": "immediate",
              "transition": {
               "duration": 0,
               "easing": "linear"
              }
             }
            ],
            "label": "2025-08-20 14:24:00",
            "method": "animate"
           },
           {
            "args": [
             [
              "2025-08-20 14:27:00"
             ],
             {
              "frame": {
               "duration": 0,
               "redraw": true
              },
              "fromcurrent": true,
              "mode": "immediate",
              "transition": {
               "duration": 0,
               "easing": "linear"
              }
             }
            ],
            "label": "2025-08-20 14:27:00",
            "method": "animate"
           }
          ],
          "x": 0.1,
          "xanchor": "left",
          "y": 0,
          "yanchor": "top"
         }
        ],
        "template": {
         "data": {
          "bar": [
           {
            "error_x": {
             "color": "#2a3f5f"
            },
            "error_y": {
             "color": "#2a3f5f"
            },
            "marker": {
             "line": {
              "color": "#E5ECF6",
              "width": 0.5
             },
             "pattern": {
              "fillmode": "overlay",
              "size": 10,
              "solidity": 0.2
             }
            },
            "type": "bar"
           }
          ],
          "barpolar": [
           {
            "marker": {
             "line": {
              "color": "#E5ECF6",
              "width": 0.5
             },
             "pattern": {
              "fillmode": "overlay",
              "size": 10,
              "solidity": 0.2
             }
            },
            "type": "barpolar"
           }
          ],
          "carpet": [
           {
            "aaxis": {
             "endlinecolor": "#2a3f5f",
             "gridcolor": "white",
             "linecolor": "white",
             "minorgridcolor": "white",
             "startlinecolor": "#2a3f5f"
            },
            "baxis": {
             "endlinecolor": "#2a3f5f",
             "gridcolor": "white",
             "linecolor": "white",
             "minorgridcolor": "white",
             "startlinecolor": "#2a3f5f"
            },
            "type": "carpet"
           }
          ],
          "choropleth": [
           {
            "colorbar": {
             "outlinewidth": 0,
             "ticks": ""
            },
            "type": "choropleth"
           }
          ],
          "contour": [
           {
            "colorbar": {
             "outlinewidth": 0,
             "ticks": ""
            },
            "colorscale": [
             [
              0,
              "#0d0887"
             ],
             [
              0.1111111111111111,
              "#46039f"
             ],
             [
              0.2222222222222222,
              "#7201a8"
             ],
             [
              0.3333333333333333,
              "#9c179e"
             ],
             [
              0.4444444444444444,
              "#bd3786"
             ],
             [
              0.5555555555555556,
              "#d8576b"
             ],
             [
              0.6666666666666666,
              "#ed7953"
             ],
             [
              0.7777777777777778,
              "#fb9f3a"
             ],
             [
              0.8888888888888888,
              "#fdca26"
             ],
             [
              1,
              "#f0f921"
             ]
            ],
            "type": "contour"
           }
          ],
          "contourcarpet": [
           {
            "colorbar": {
             "outlinewidth": 0,
             "ticks": ""
            },
            "type": "contourcarpet"
           }
          ],
          "heatmap": [
           {
            "colorbar": {
             "outlinewidth": 0,
             "ticks": ""
            },
            "colorscale": [
             [
              0,
              "#0d0887"
             ],
             [
              0.1111111111111111,
              "#46039f"
             ],
             [
              0.2222222222222222,
              "#7201a8"
             ],
             [
              0.3333333333333333,
              "#9c179e"
             ],
             [
              0.4444444444444444,
              "#bd3786"
             ],
             [
              0.5555555555555556,
              "#d8576b"
             ],
             [
              0.6666666666666666,
              "#ed7953"
             ],
             [
              0.7777777777777778,
              "#fb9f3a"
             ],
             [
              0.8888888888888888,
              "#fdca26"
             ],
             [
              1,
              "#f0f921"
             ]
            ],
            "type": "heatmap"
           }
          ],
          "histogram": [
           {
            "marker": {
             "pattern": {
              "fillmode": "overlay",
              "size": 10,
              "solidity": 0.2
             }
            },
            "type": "histogram"
           }
          ],
          "histogram2d": [
           {
            "colorbar": {
             "outlinewidth": 0,
             "ticks": ""
            },
            "colorscale": [
             [
              0,
              "#0d0887"
             ],
             [
              0.1111111111111111,
              "#46039f"
             ],
             [
              0.2222222222222222,
              "#7201a8"
             ],
             [
              0.3333333333333333,
              "#9c179e"
             ],
             [
              0.4444444444444444,
              "#bd3786"
             ],
             [
              0.5555555555555556,
              "#d8576b"
             ],
             [
              0.6666666666666666,
              "#ed7953"
             ],
             [
              0.7777777777777778,
              "#fb9f3a"
             ],
             [
              0.8888888888888888,
              "#fdca26"
             ],
             [
              1,
              "#f0f921"
             ]
            ],
            "type": "histogram2d"
           }
          ],
          "histogram2dcontour": [
           {
            "colorbar": {
             "outlinewidth": 0,
             "ticks": ""
            },
            "colorscale": [
             [
              0,
              "#0d0887"
             ],
             [
              0.1111111111111111,
              "#46039f"
             ],
             [
              0.2222222222222222,
              "#7201a8"
             ],
             [
              0.3333333333333333,
              "#9c179e"
             ],
             [
              0.4444444444444444,
              "#bd3786"
             ],
             [
              0.5555555555555556,
              "#d8576b"
             ],
             [
              0.6666666666666666,
              "#ed7953"
             ],
             [
              0.7777777777777778,
              "#fb9f3a"
             ],
             [
              0.8888888888888888,
              "#fdca26"
             ],
             [
              1,
              "#f0f921"
             ]
            ],
            "type": "histogram2dcontour"
           }
          ],
          "mesh3d": [
           {
            "colorbar": {
             "outlinewidth": 0,
             "ticks": ""
            },
            "type": "mesh3d"
           }
          ],
          "parcoords": [
           {
            "line": {
             "colorbar": {
              "outlinewidth": 0,
              "ticks": ""
             }
            },
            "type": "parcoords"
           }
          ],
          "pie": [
           {
            "automargin": true,
            "type": "pie"
           }
          ],
          "scatter": [
           {
            "fillpattern": {
             "fillmode": "overlay",
             "size": 10,
             "solidity": 0.2
            },
            "type": "scatter"
           }
          ],
          "scatter3d": [
           {
            "line": {
             "colorbar": {
              "outlinewidth": 0,
              "ticks": ""
             }
            },
            "marker": {
             "colorbar": {
              "outlinewidth": 0,
              "ticks": ""
             }
            },
            "type": "scatter3d"
           }
          ],
          "scattercarpet": [
           {
            "marker": {
             "colorbar": {
              "outlinewidth": 0,
              "ticks": ""
             }
            },
            "type": "scattercarpet"
           }
          ],
          "scattergeo": [
           {
            "marker": {
             "colorbar": {
              "outlinewidth": 0,
              "ticks": ""
             }
            },
            "type": "scattergeo"
           }
          ],
          "scattergl": [
           {
            "marker": {
             "colorbar": {
              "outlinewidth": 0,
              "ticks": ""
             }
            },
            "type": "scattergl"
           }
          ],
          "scattermap": [
           {
            "marker": {
             "colorbar": {
              "outlinewidth": 0,
              "ticks": ""
             }
            },
            "type": "scattermap"
           }
          ],
          "scattermapbox": [
           {
            "marker": {
             "colorbar": {
              "outlinewidth": 0,
              "ticks": ""
             }
            },
            "type": "scattermapbox"
           }
          ],
          "scatterpolar": [
           {
            "marker": {
             "colorbar": {
              "outlinewidth": 0,
              "ticks": ""
             }
            },
            "type": "scatterpolar"
           }
          ],
          "scatterpolargl": [
           {
            "marker": {
             "colorbar": {
              "outlinewidth": 0,
              "ticks": ""
             }
            },
            "type": "scatterpolargl"
           }
          ],
          "scatterternary": [
           {
            "marker": {
             "colorbar": {
              "outlinewidth": 0,
              "ticks": ""
             }
            },
            "type": "scatterternary"
           }
          ],
          "surface": [
           {
            "colorbar": {
             "outlinewidth": 0,
             "ticks": ""
            },
            "colorscale": [
             [
              0,
              "#0d0887"
             ],
             [
              0.1111111111111111,
              "#46039f"
             ],
             [
              0.2222222222222222,
              "#7201a8"
             ],
             [
              0.3333333333333333,
              "#9c179e"
             ],
             [
              0.4444444444444444,
              "#bd3786"
             ],
             [
              0.5555555555555556,
              "#d8576b"
             ],
             [
              0.6666666666666666,
              "#ed7953"
             ],
             [
              0.7777777777777778,
              "#fb9f3a"
             ],
             [
              0.8888888888888888,
              "#fdca26"
             ],
             [
              1,
              "#f0f921"
             ]
            ],
            "type": "surface"
           }
          ],
          "table": [
           {
            "cells": {
             "fill": {
              "color": "#EBF0F8"
             },
             "line": {
              "color": "white"
             }
            },
            "header": {
             "fill": {
              "color": "#C8D4E3"
             },
             "line": {
              "color": "white"
             }
            },
            "type": "table"
           }
          ]
         },
         "layout": {
          "annotationdefaults": {
           "arrowcolor": "#2a3f5f",
           "arrowhead": 0,
           "arrowwidth": 1
          },
          "autotypenumbers": "strict",
          "coloraxis": {
           "colorbar": {
            "outlinewidth": 0,
            "ticks": ""
           }
          },
          "colorscale": {
           "diverging": [
            [
             0,
             "#8e0152"
            ],
            [
             0.1,
             "#c51b7d"
            ],
            [
             0.2,
             "#de77ae"
            ],
            [
             0.3,
             "#f1b6da"
            ],
            [
             0.4,
             "#fde0ef"
            ],
            [
             0.5,
             "#f7f7f7"
            ],
            [
             0.6,
             "#e6f5d0"
            ],
            [
             0.7,
             "#b8e186"
            ],
            [
             0.8,
             "#7fbc41"
            ],
            [
             0.9,
             "#4d9221"
            ],
            [
             1,
             "#276419"
            ]
           ],
           "sequential": [
            [
             0,
             "#0d0887"
            ],
            [
             0.1111111111111111,
             "#46039f"
            ],
            [
             0.2222222222222222,
             "#7201a8"
            ],
            [
             0.3333333333333333,
             "#9c179e"
            ],
            [
             0.4444444444444444,
             "#bd3786"
            ],
            [
             0.5555555555555556,
             "#d8576b"
            ],
            [
             0.6666666666666666,
             "#ed7953"
            ],
            [
             0.7777777777777778,
             "#fb9f3a"
            ],
            [
             0.8888888888888888,
             "#fdca26"
            ],
            [
             1,
             "#f0f921"
            ]
           ],
           "sequentialminus": [
            [
             0,
             "#0d0887"
            ],
            [
             0.1111111111111111,
             "#46039f"
            ],
            [
             0.2222222222222222,
             "#7201a8"
            ],
            [
             0.3333333333333333,
             "#9c179e"
            ],
            [
             0.4444444444444444,
             "#bd3786"
            ],
            [
             0.5555555555555556,
             "#d8576b"
            ],
            [
             0.6666666666666666,
             "#ed7953"
            ],
            [
             0.7777777777777778,
             "#fb9f3a"
            ],
            [
             0.8888888888888888,
             "#fdca26"
            ],
            [
             1,
             "#f0f921"
            ]
           ]
          },
          "colorway": [
           "#636efa",
           "#EF553B",
           "#00cc96",
           "#ab63fa",
           "#FFA15A",
           "#19d3f3",
           "#FF6692",
           "#B6E880",
           "#FF97FF",
           "#FECB52"
          ],
          "font": {
           "color": "#2a3f5f"
          },
          "geo": {
           "bgcolor": "white",
           "lakecolor": "white",
           "landcolor": "#E5ECF6",
           "showlakes": true,
           "showland": true,
           "subunitcolor": "white"
          },
          "hoverlabel": {
           "align": "left"
          },
          "hovermode": "closest",
          "mapbox": {
           "style": "light"
          },
          "paper_bgcolor": "white",
          "plot_bgcolor": "#E5ECF6",
          "polar": {
           "angularaxis": {
            "gridcolor": "white",
            "linecolor": "white",
            "ticks": ""
           },
           "bgcolor": "#E5ECF6",
           "radialaxis": {
            "gridcolor": "white",
            "linecolor": "white",
            "ticks": ""
           }
          },
          "scene": {
           "xaxis": {
            "backgroundcolor": "#E5ECF6",
            "gridcolor": "white",
            "gridwidth": 2,
            "linecolor": "white",
            "showbackground": true,
            "ticks": "",
            "zerolinecolor": "white"
           },
           "yaxis": {
            "backgroundcolor": "#E5ECF6",
            "gridcolor": "white",
            "gridwidth": 2,
            "linecolor": "white",
            "showbackground": true,
            "ticks": "",
            "zerolinecolor": "white"
           },
           "zaxis": {
            "backgroundcolor": "#E5ECF6",
            "gridcolor": "white",
            "gridwidth": 2,
            "linecolor": "white",
            "showbackground": true,
            "ticks": "",
            "zerolinecolor": "white"
           }
          },
          "shapedefaults": {
           "line": {
            "color": "#2a3f5f"
           }
          },
          "ternary": {
           "aaxis": {
            "gridcolor": "white",
            "linecolor": "white",
            "ticks": ""
           },
           "baxis": {
            "gridcolor": "white",
            "linecolor": "white",
            "ticks": ""
           },
           "bgcolor": "#E5ECF6",
           "caxis": {
            "gridcolor": "white",
            "linecolor": "white",
            "ticks": ""
           }
          },
          "title": {
           "x": 0.05
          },
          "xaxis": {
           "automargin": true,
           "gridcolor": "white",
           "linecolor": "white",
           "ticks": "",
           "title": {
            "standoff": 15
           },
           "zerolinecolor": "white",
           "zerolinewidth": 2
          },
          "yaxis": {
           "automargin": true,
           "gridcolor": "white",
           "linecolor": "white",
           "ticks": "",
           "title": {
            "standoff": 15
           },
           "zerolinecolor": "white",
           "zerolinewidth": 2
          }
         }
        },
        "title": {
         "text": "Crowd heatmap – animatie per timestamp"
        },
        "updatemenus": [
         {
          "buttons": [
           {
            "args": [
             null,
             {
              "frame": {
               "duration": 1000,
               "redraw": false
              },
              "fromcurrent": true,
              "mode": "immediate",
              "transition": {
               "duration": 0
              }
             }
            ],
            "label": "&#9654;",
            "method": "animate"
           },
           {
            "args": [
             [
              null
             ],
             {
              "frame": {
               "duration": 0,
               "redraw": true
              },
              "fromcurrent": true,
              "mode": "immediate",
              "transition": {
               "duration": 0,
               "easing": "linear"
              }
             }
            ],
            "label": "&#9724;",
            "method": "animate"
           }
          ],
          "direction": "left",
          "pad": {
           "r": 10,
           "t": 70
          },
          "showactive": false,
          "type": "buttons",
          "x": 0.1,
          "xanchor": "right",
          "y": 0,
          "yanchor": "top"
         }
        ]
       }
      }
     },
     "metadata": {},
     "output_type": "display_data"
    },
    {
     "name": "stdout",
     "output_type": "stream",
     "text": [
      "Gevonden sensor-id kolom in df: fallback (alfabetische mapping)\n",
      "Aantal frames (timestamps): 30\n",
      "Aantal unieke sensoren: 24\n"
     ]
    }
   ],
   "source": [
    "# ==========================================\n",
    "# Crowd heatmap monitor (Plotly Express)\n",
    "# - leest cs: predicted_sensor_values_3min.csv\n",
    "# - koppelt automatisch sensoren aan locaties\n",
    "# - animeert 1 frame per timestamp (~1s)\n",
    "# ==========================================\n",
    "\n",
    "import pandas as pd\n",
    "import json\n",
    "import numpy as np\n",
    "import plotly.express as px\n",
    "from urllib.request import urlopen\n",
    "\n",
    "# ---------- 0) Paden ----------\n",
    "CS_CSV = r\"predicted_sensor_values_3min.csv\"          # crowd sensor waarden (wide format)\n",
    "SENSOR_META_CSV = r\"sensor-location.xlsx - Sheet1.csv\" # sensor locaties (Lat/Long + sensor-id kolom)\n",
    "\n",
    "# ---------- 1) (Optioneel) stadsdelen ----------\n",
    "GEOJSON_URL = \"https://maps.amsterdam.nl/open_geodata/geojson_lnglat.php?KAARTLAAG=INDELING_STADSDEEL&THEMA=gebiedsindeling\"\n",
    "try:\n",
    "    with urlopen(GEOJSON_URL) as response:\n",
    "        stadsdelen = json.load(response)\n",
    "except Exception:\n",
    "    stadsdelen = None  # niet kritisch voor de heatmap\n",
    "\n",
    "# ---------- 2) Sensorlocaties inladen ----------\n",
    "df = pd.read_csv(SENSOR_META_CSV)\n",
    "\n",
    "# Verwacht een kolom \"Lat/Long\" als \"lat,lon\" string\n",
    "if \"Lat/Long\" in df.columns:\n",
    "    df[[\"Lat\", \"Long\"]] = df[\"Lat/Long\"].str.split(\",\", expand=True)\n",
    "else:\n",
    "    # Als je al aparte kolommen hebt, hernoem ze evt. hier:\n",
    "    # df = df.rename(columns={\"latitude_col\": \"Lat\", \"longitude_col\": \"Long\"})\n",
    "    pass\n",
    "\n",
    "df[\"Lat\"]  = pd.to_numeric(df[\"Lat\"],  errors=\"coerce\")\n",
    "df[\"Long\"] = pd.to_numeric(df[\"Long\"], errors=\"coerce\")\n",
    "\n",
    "# Klein schoonmaakje: niet nodig voor plot, maar stoort ook niet\n",
    "for col in [\"Breedte\", \"Effectieve breedte\"]:\n",
    "    if col in df.columns:\n",
    "        df[col] = df[col].fillna(\"Effectieve breedte\")\n",
    "\n",
    "# ---------- 3) Crowddata (cs) inladen ----------\n",
    "# Expected: kolommen = tijdsvelden + sensor-kolommen\n",
    "# timestamp-kolom heet 'timestamp' (string of datetime)\n",
    "cs = pd.read_csv(CS_CSV)\n",
    "\n",
    "# Welke tijdsvelden zijn er echt aanwezig?\n",
    "possible_time_cols = [\"timestamp\",\"hour\",\"minute\",\"day\",\"month\",\"weekday\",\"is_weekend\"]\n",
    "time_cols = [c for c in possible_time_cols if c in cs.columns]\n",
    "if \"timestamp\" not in time_cols:\n",
    "    raise ValueError(\"Kolom 'timestamp' ontbreekt in je CSV. Voeg deze toe of pas de code aan.\")\n",
    "\n",
    "# Zet timestamp naar datetime voor sorteren/animatie\n",
    "cs[\"timestamp\"] = pd.to_datetime(cs[\"timestamp\"], errors=\"coerce\")\n",
    "\n",
    "# Sensor-kolommen = alles behalve tijdsvelden\n",
    "sensor_cols = [c for c in cs.columns if c not in time_cols]\n",
    "\n",
    "if not sensor_cols:\n",
    "    raise ValueError(\"Geen sensor-kolommen gevonden in cs. Controleer je CSV.\")\n",
    "\n",
    "# ---------- 4) Probeer automatisch de sensor-ID kolom in df te vinden ----------\n",
    "# We kiezen de string-kolom in df met de grootste overlap met sensor_cols\n",
    "sensor_set = set(sensor_cols)\n",
    "candidate_cols = [c for c in df.columns if df[c].dtype == object]\n",
    "\n",
    "best_col = None\n",
    "best_overlap = 0.0\n",
    "for c in candidate_cols:\n",
    "    values = set(df[c].dropna().astype(str))\n",
    "    overlap = len(values & sensor_set) / max(1, len(sensor_set))\n",
    "    if overlap > best_overlap:\n",
    "        best_overlap = overlap\n",
    "        best_col = c\n",
    "\n",
    "# Als overlap mager is, val terug op expliciete naam of op volgorde\n",
    "if best_overlap >= 0.2:\n",
    "    SENSOR_COL = best_col\n",
    "else:\n",
    "    # Probeer veel voorkomende naam\n",
    "    SENSOR_COL = \"Sensor\" if \"Sensor\" in df.columns else None\n",
    "\n",
    "# ---------- 5) Crowddata smelten naar long ----------\n",
    "cs_long = cs.melt(\n",
    "    id_vars=time_cols,\n",
    "    value_vars=sensor_cols,\n",
    "    var_name=\"sensor\",\n",
    "    value_name=\"value\"\n",
    ")\n",
    "\n",
    "# ---------- 6) Merge waarden met locaties ----------\n",
    "if SENSOR_COL is not None and SENSOR_COL in df.columns:\n",
    "    merged = cs_long.merge(\n",
    "        df[[SENSOR_COL, \"Lat\", \"Long\"]],\n",
    "        left_on=\"sensor\",\n",
    "        right_on=SENSOR_COL,\n",
    "        how=\"left\"\n",
    "    )\n",
    "else:\n",
    "    # Fallback: orden sensoren alfabetisch en mappen op eerste N rijen van df\n",
    "    df_tmp = df.copy().reset_index(drop=True)\n",
    "    df_tmp = df_tmp.loc[:len(sensor_cols)-1].copy()\n",
    "    df_tmp[\"sensor\"] = sorted(sensor_cols)\n",
    "    merged = cs_long.merge(\n",
    "        df_tmp[[\"sensor\", \"Lat\", \"Long\"]],\n",
    "        on=\"sensor\",\n",
    "        how=\"left\"\n",
    "    )\n",
    "\n",
    "# Verwijder rijen zonder locatie\n",
    "merged = merged.dropna(subset=[\"Lat\",\"Long\"]).copy()\n",
    "\n",
    "# ---------- 7) Sorteren & animatie-as ----------\n",
    "merged = merged.sort_values([\"timestamp\", \"sensor\"])\n",
    "merged[\"timestamp_str\"] = merged[\"timestamp\"].dt.strftime(\"%Y-%m-%d %H:%M:%S\")\n",
    "\n",
    "# ---------- 8) Plotly density heatmap met animatie ----------\n",
    "fig = px.density_mapbox(\n",
    "    merged,\n",
    "    lat=\"Lat\",\n",
    "    lon=\"Long\",\n",
    "    z=\"value\",                       # intensiteit: aantal personen\n",
    "    radius=60,                       # straal in meters\n",
    "    center={\"lat\": 52.372, \"lon\": 4.900},\n",
    "    zoom=10,\n",
    "    color_continuous_scale=\"YlOrRd\",\n",
    "    opacity=0.7,\n",
    "    height=720,\n",
    "    animation_frame=\"timestamp_str\"  # 1 frame per timestamp\n",
    ")\n",
    "\n",
    "fig.update_layout(\n",
    "    mapbox_style=\"carto-positron\",   # of \"open-street-map\"\n",
    "    margin={\"r\":0,\"t\":30,\"l\":0,\"b\":0},\n",
    "    title=\"Crowd heatmap – animatie per timestamp\"\n",
    ")\n",
    "\n",
    "# 1 seconde per frame\n",
    "if fig.layout.updatemenus and fig.layout.updatemenus[0].buttons:\n",
    "    fig.layout.updatemenus[0].buttons[0].args[1][\"frame\"] = {\"duration\": 1000, \"redraw\": False}\n",
    "    fig.layout.updatemenus[0].buttons[0].args[1][\"transition\"] = {\"duration\": 0}\n",
    "\n",
    "fig.show()\n",
    "\n",
    "#---------- 9) (Optioneel) sanity checks ----------\n",
    "print(\"Gevonden sensor-id kolom in df:\", SENSOR_COL if SENSOR_COL else \"fallback (alfabetische mapping)\")\n",
    "print(\"Aantal frames (timestamps):\", merged[\"timestamp_str\"].nunique())\n",
    "print(\"Aantal unieke sensoren:\", merged[\"sensor\"].nunique())\n"
   ]
  }
 ],
 "metadata": {
  "kernelspec": {
   "display_name": "TIL6022-25",
   "language": "python",
   "name": "python3"
  },
  "language_info": {
   "codemirror_mode": {
    "name": "ipython",
    "version": 3
   },
   "file_extension": ".py",
   "mimetype": "text/x-python",
   "name": "python",
   "nbconvert_exporter": "python",
   "pygments_lexer": "ipython3",
   "version": "3.13.7"
  }
 },
 "nbformat": 4,
 "nbformat_minor": 5
}
