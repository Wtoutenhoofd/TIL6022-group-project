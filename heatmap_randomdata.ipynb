{
 "cells": [
  {
   "cell_type": "code",
   "execution_count": 3,
   "id": "b751ce16",
   "metadata": {},
   "outputs": [
    {
     "name": "stderr",
     "output_type": "stream",
     "text": [
      "C:\\Users\\matsj\\AppData\\Local\\Temp\\ipykernel_33384\\107859653.py:28: DeprecationWarning: *scatter_mapbox* is deprecated! Use *scatter_map* instead. Learn more at: https://plotly.com/python/mapbox-to-maplibre/\n",
      "  fig = px.scatter_mapbox(\n"
     ]
    },
    {
     "data": {
      "application/vnd.plotly.v1+json": {
       "config": {
        "plotlyServerURL": "https://plot.ly"
       },
       "data": [
        {
         "customdata": [
          [
           "CMSA-GAKH-01",
           "8",
           "6,7",
           17
          ],
          [
           "CMSA-GAWW-11",
           "3,8",
           "3,4",
           154
          ],
          [
           "CMSA-GAWW-12",
           "3",
           "2,6",
           130
          ],
          [
           "CMSA-GAWW-13",
           "2,6",
           "2,2",
           87
          ],
          [
           "CMSA-GAWW-14",
           "4",
           "3,6",
           86
          ],
          [
           "CMSA-GAWW-15",
           "3,2",
           "2,8",
           171
          ],
          [
           "CMSA-GAWW-16",
           "3,1",
           "2,7",
           17
          ],
          [
           "CMSA-GAWW-17",
           "5,1",
           "4,7",
           139
          ],
          [
           "CMSA-GAWW-19",
           "2,9",
           "2,5",
           40
          ],
          [
           "CMSA-GAWW-20",
           "5,7",
           "5,3",
           18
          ],
          [
           "CMSA-GAWW-21",
           "9,7",
           "9,3",
           105
          ],
          [
           "CMSA-GAWW-23",
           "5,7",
           "5,3",
           195
          ],
          [
           "GACM-04",
           "7",
           "6,2",
           147
          ],
          [
           "GVCV-01",
           "3,5",
           "3,1",
           152
          ],
          [
           "GVCV-03",
           "3,5",
           "3,1",
           143
          ],
          [
           "GVCV-04",
           "3,5",
           "3,1",
           157
          ],
          [
           "GVCV-05-A",
           "3,5",
           "3,1",
           102
          ],
          [
           "GVCV-05-B",
           "3,5",
           "3,1",
           25
          ],
          [
           "GVCV-06",
           "3,5",
           "3,1",
           167
          ],
          [
           "GVCV-07",
           "3,5",
           "3,1",
           90
          ],
          [
           "GVCV-08",
           "3,5",
           "3,1",
           100
          ],
          [
           "GVCV-09",
           "3,5",
           "3,1",
           74
          ],
          [
           "GVCV-11",
           "3,5",
           "3,1",
           36
          ],
          [
           "GVCV-13",
           "3,5",
           "3,1",
           185
          ],
          [
           "GVCV-14",
           "3,5",
           "3,1",
           156
          ],
          [
           "GASA-06",
           "",
           "3,1",
           128
          ],
          [
           "GASA-01-A1",
           "",
           "4",
           80
          ],
          [
           "GASA-01-A2",
           "",
           "4",
           164
          ],
          [
           "GASA-01-B",
           "",
           "6",
           109
          ],
          [
           "GASA-01-C",
           "",
           "6",
           88
          ],
          [
           "GASA-02-01",
           "",
           "6",
           90
          ],
          [
           "GASA-02-02",
           "",
           "6",
           45
          ],
          [
           "GASA-03",
           "",
           "8",
           18
          ],
          [
           "GASA-04",
           "",
           "7",
           110
          ],
          [
           "GASA-05-O",
           "",
           "4",
           177
          ],
          [
           "GASA-05-W",
           "",
           "4",
           12
          ]
         ],
         "hovertemplate": "<b>%{hovertext}</b><br><br>Persons=%{marker.color}<br>Lat=%{lat}<br>Long=%{lon}<br>Objectummer=%{customdata[0]}<br>Breedte=%{customdata[1]}<br>Effectieve  breedte=%{customdata[2]}<extra></extra>",
         "hovertext": [
          "Kalverstraat t.h.v. 1",
          "Korte Niezel",
          "Oudekennissteeg",
          "Stoofsteeg",
          "Oudezijds Voorburgwal t.h.v. 91",
          "Oudezijds Achterburgwal t.h.v. 86",
          "Oudezijds Achterburgwal t.h.v. 91",
          "Oudezijds Voorburgwal t.h.v. 206",
          "Molensteeg",
          "Oudebrugsteeg ",
          "Damstraat",
          "Bloedstraat",
          "Damrak 1-5",
          "CS - ri. NDSM",
          "CS - ri. Buiksloterweg (West)",
          "CS - ri. Buiksloterweg (Oost)",
          "CS - ri. IJplein (West)",
          "CS - ri. IJplein (Oost)",
          "Azartplein",
          "Pontsteiger N (ri. NDSM)",
          "Pontsteiger Z (ri. Distelweg)",
          "Zeeburg",
          "NDSMkade",
          "Buiksloterweg",
          "Buiksloterweg",
          "Azartplein B",
          "IJBoulevardA1",
          "IJBoulevardA2",
          "IJBoulevardB",
          "IJBoulevardC",
          "BrugOostertoegang1",
          "BrugOostertoegang2",
          "Oosterdoksbrug",
          "CSriOosterdokskade",
          "NoorderparkOost",
          "NoorderparkWest"
         ],
         "lat": {
          "bdata": "V7CNeLIvSkB4R8Zq8y9KQCuk/KTaL0pAomDGFKwvSkAZ6NoX0C9KQNsTJLa7L0pAdck4RrIvSkDMRBFSty9KQPqa5bLRL0pA3EYDeAswSkBdM/lmmy9KQCWQEru2L0pAwFq1a0IwSkDEBaBRujBKQBr8/WK2MEpAaM2Pv7QwSkDFVzuKczBKQMVXO4pzMEpA3soSnWUwSkB7Lei9MTJKQLMKmwEuMkpAEJVGzOwvSkDs3R/vVTNKQLTHC+nwMEpAw0Xu6eowSkDxnZj1YjBKQLHh6ZWyMEpARl9BmrEwSkAprir7rjBKQFSp2QOtMEpAjXqIRncwSkC4dTdPdTBKQGMoJ9pVMEpADvj8MEIwSkAnZr0YyjFKQAvSjEXTMUpA",
          "dtype": "f8"
         },
         "legendgroup": "",
         "lon": {
          "bdata": "DtdqD3uRE0C21hcJbZkTQA74/DBCmBNAcOoDyTuXE0A8hPHTuJcTQDEnaJPDlxNAe8A8ZMqXE0Dk9ssnK5YTQAzNdRppmRNAnkFD/wSXE0C+MJkqGJUTQDT4+8VsmRNAjINLx5yXE0B0DTM0npgTQH5S7dPxmBNAUd7H0RyZE0CgbTXrjJ8TQKBtNeuMnxNAEaYol8a/E0AaNV8lH4sTQLNeDOVEixNAoN/3b17ME0DAzeLFwpATQBcP7zmwnBNAsMka9RCdE0AdyeU/pL8TQAsMWd3qmRNAtvgUAOOZE0C2EOSghJkTQO84RUdymRNAAyZw626eE0BY/+cwX54TQNtQMc7fpBNAsCDNWDSdE0CSrpl8s60TQMxAZfz7rBNA",
          "dtype": "f8"
         },
         "marker": {
          "color": {
           "bdata": "EQCaAIIAVwBWAKsAEQCLACgAEgBpAMMAkwCYAI8AnQBmABkApwBaAGQASgAkALkAnACAAFAApABtAFgAWgAtABIAbgCxAAwA",
           "dtype": "i2"
          },
          "coloraxis": "coloraxis",
          "size": {
           "bdata": "EQCaAIIAVwBWAKsAEQCLACgAEgBpAMMAkwCYAI8AnQBmABkApwBaAGQASgAkALkAnACAAFAApABtAFgAWgAtABIAbgCxAAwA",
           "dtype": "i2"
          },
          "sizemode": "area",
          "sizeref": 0.121875
         },
         "mode": "markers",
         "name": "",
         "showlegend": false,
         "subplot": "mapbox",
         "type": "scattermapbox"
        }
       ],
       "layout": {
        "coloraxis": {
         "colorbar": {
          "title": {
           "text": "Persons"
          }
         },
         "colorscale": [
          [
           0,
           "rgb(255,245,240)"
          ],
          [
           0.125,
           "rgb(254,224,210)"
          ],
          [
           0.25,
           "rgb(252,187,161)"
          ],
          [
           0.375,
           "rgb(252,146,114)"
          ],
          [
           0.5,
           "rgb(251,106,74)"
          ],
          [
           0.625,
           "rgb(239,59,44)"
          ],
          [
           0.75,
           "rgb(203,24,29)"
          ],
          [
           0.875,
           "rgb(165,15,21)"
          ],
          [
           1,
           "rgb(103,0,13)"
          ]
         ]
        },
        "height": 700,
        "legend": {
         "itemsizing": "constant",
         "tracegroupgap": 0
        },
        "mapbox": {
         "center": {
          "lat": 52.37,
          "lon": 4.9
         },
         "domain": {
          "x": [
           0,
           1
          ],
          "y": [
           0,
           1
          ]
         },
         "style": "carto-positron",
         "zoom": 10
        },
        "margin": {
         "b": 0,
         "l": 0,
         "r": 0,
         "t": 0
        },
        "template": {
         "data": {
          "bar": [
           {
            "error_x": {
             "color": "#2a3f5f"
            },
            "error_y": {
             "color": "#2a3f5f"
            },
            "marker": {
             "line": {
              "color": "#E5ECF6",
              "width": 0.5
             },
             "pattern": {
              "fillmode": "overlay",
              "size": 10,
              "solidity": 0.2
             }
            },
            "type": "bar"
           }
          ],
          "barpolar": [
           {
            "marker": {
             "line": {
              "color": "#E5ECF6",
              "width": 0.5
             },
             "pattern": {
              "fillmode": "overlay",
              "size": 10,
              "solidity": 0.2
             }
            },
            "type": "barpolar"
           }
          ],
          "carpet": [
           {
            "aaxis": {
             "endlinecolor": "#2a3f5f",
             "gridcolor": "white",
             "linecolor": "white",
             "minorgridcolor": "white",
             "startlinecolor": "#2a3f5f"
            },
            "baxis": {
             "endlinecolor": "#2a3f5f",
             "gridcolor": "white",
             "linecolor": "white",
             "minorgridcolor": "white",
             "startlinecolor": "#2a3f5f"
            },
            "type": "carpet"
           }
          ],
          "choropleth": [
           {
            "colorbar": {
             "outlinewidth": 0,
             "ticks": ""
            },
            "type": "choropleth"
           }
          ],
          "contour": [
           {
            "colorbar": {
             "outlinewidth": 0,
             "ticks": ""
            },
            "colorscale": [
             [
              0,
              "#0d0887"
             ],
             [
              0.1111111111111111,
              "#46039f"
             ],
             [
              0.2222222222222222,
              "#7201a8"
             ],
             [
              0.3333333333333333,
              "#9c179e"
             ],
             [
              0.4444444444444444,
              "#bd3786"
             ],
             [
              0.5555555555555556,
              "#d8576b"
             ],
             [
              0.6666666666666666,
              "#ed7953"
             ],
             [
              0.7777777777777778,
              "#fb9f3a"
             ],
             [
              0.8888888888888888,
              "#fdca26"
             ],
             [
              1,
              "#f0f921"
             ]
            ],
            "type": "contour"
           }
          ],
          "contourcarpet": [
           {
            "colorbar": {
             "outlinewidth": 0,
             "ticks": ""
            },
            "type": "contourcarpet"
           }
          ],
          "heatmap": [
           {
            "colorbar": {
             "outlinewidth": 0,
             "ticks": ""
            },
            "colorscale": [
             [
              0,
              "#0d0887"
             ],
             [
              0.1111111111111111,
              "#46039f"
             ],
             [
              0.2222222222222222,
              "#7201a8"
             ],
             [
              0.3333333333333333,
              "#9c179e"
             ],
             [
              0.4444444444444444,
              "#bd3786"
             ],
             [
              0.5555555555555556,
              "#d8576b"
             ],
             [
              0.6666666666666666,
              "#ed7953"
             ],
             [
              0.7777777777777778,
              "#fb9f3a"
             ],
             [
              0.8888888888888888,
              "#fdca26"
             ],
             [
              1,
              "#f0f921"
             ]
            ],
            "type": "heatmap"
           }
          ],
          "histogram": [
           {
            "marker": {
             "pattern": {
              "fillmode": "overlay",
              "size": 10,
              "solidity": 0.2
             }
            },
            "type": "histogram"
           }
          ],
          "histogram2d": [
           {
            "colorbar": {
             "outlinewidth": 0,
             "ticks": ""
            },
            "colorscale": [
             [
              0,
              "#0d0887"
             ],
             [
              0.1111111111111111,
              "#46039f"
             ],
             [
              0.2222222222222222,
              "#7201a8"
             ],
             [
              0.3333333333333333,
              "#9c179e"
             ],
             [
              0.4444444444444444,
              "#bd3786"
             ],
             [
              0.5555555555555556,
              "#d8576b"
             ],
             [
              0.6666666666666666,
              "#ed7953"
             ],
             [
              0.7777777777777778,
              "#fb9f3a"
             ],
             [
              0.8888888888888888,
              "#fdca26"
             ],
             [
              1,
              "#f0f921"
             ]
            ],
            "type": "histogram2d"
           }
          ],
          "histogram2dcontour": [
           {
            "colorbar": {
             "outlinewidth": 0,
             "ticks": ""
            },
            "colorscale": [
             [
              0,
              "#0d0887"
             ],
             [
              0.1111111111111111,
              "#46039f"
             ],
             [
              0.2222222222222222,
              "#7201a8"
             ],
             [
              0.3333333333333333,
              "#9c179e"
             ],
             [
              0.4444444444444444,
              "#bd3786"
             ],
             [
              0.5555555555555556,
              "#d8576b"
             ],
             [
              0.6666666666666666,
              "#ed7953"
             ],
             [
              0.7777777777777778,
              "#fb9f3a"
             ],
             [
              0.8888888888888888,
              "#fdca26"
             ],
             [
              1,
              "#f0f921"
             ]
            ],
            "type": "histogram2dcontour"
           }
          ],
          "mesh3d": [
           {
            "colorbar": {
             "outlinewidth": 0,
             "ticks": ""
            },
            "type": "mesh3d"
           }
          ],
          "parcoords": [
           {
            "line": {
             "colorbar": {
              "outlinewidth": 0,
              "ticks": ""
             }
            },
            "type": "parcoords"
           }
          ],
          "pie": [
           {
            "automargin": true,
            "type": "pie"
           }
          ],
          "scatter": [
           {
            "fillpattern": {
             "fillmode": "overlay",
             "size": 10,
             "solidity": 0.2
            },
            "type": "scatter"
           }
          ],
          "scatter3d": [
           {
            "line": {
             "colorbar": {
              "outlinewidth": 0,
              "ticks": ""
             }
            },
            "marker": {
             "colorbar": {
              "outlinewidth": 0,
              "ticks": ""
             }
            },
            "type": "scatter3d"
           }
          ],
          "scattercarpet": [
           {
            "marker": {
             "colorbar": {
              "outlinewidth": 0,
              "ticks": ""
             }
            },
            "type": "scattercarpet"
           }
          ],
          "scattergeo": [
           {
            "marker": {
             "colorbar": {
              "outlinewidth": 0,
              "ticks": ""
             }
            },
            "type": "scattergeo"
           }
          ],
          "scattergl": [
           {
            "marker": {
             "colorbar": {
              "outlinewidth": 0,
              "ticks": ""
             }
            },
            "type": "scattergl"
           }
          ],
          "scattermap": [
           {
            "marker": {
             "colorbar": {
              "outlinewidth": 0,
              "ticks": ""
             }
            },
            "type": "scattermap"
           }
          ],
          "scattermapbox": [
           {
            "marker": {
             "colorbar": {
              "outlinewidth": 0,
              "ticks": ""
             }
            },
            "type": "scattermapbox"
           }
          ],
          "scatterpolar": [
           {
            "marker": {
             "colorbar": {
              "outlinewidth": 0,
              "ticks": ""
             }
            },
            "type": "scatterpolar"
           }
          ],
          "scatterpolargl": [
           {
            "marker": {
             "colorbar": {
              "outlinewidth": 0,
              "ticks": ""
             }
            },
            "type": "scatterpolargl"
           }
          ],
          "scatterternary": [
           {
            "marker": {
             "colorbar": {
              "outlinewidth": 0,
              "ticks": ""
             }
            },
            "type": "scatterternary"
           }
          ],
          "surface": [
           {
            "colorbar": {
             "outlinewidth": 0,
             "ticks": ""
            },
            "colorscale": [
             [
              0,
              "#0d0887"
             ],
             [
              0.1111111111111111,
              "#46039f"
             ],
             [
              0.2222222222222222,
              "#7201a8"
             ],
             [
              0.3333333333333333,
              "#9c179e"
             ],
             [
              0.4444444444444444,
              "#bd3786"
             ],
             [
              0.5555555555555556,
              "#d8576b"
             ],
             [
              0.6666666666666666,
              "#ed7953"
             ],
             [
              0.7777777777777778,
              "#fb9f3a"
             ],
             [
              0.8888888888888888,
              "#fdca26"
             ],
             [
              1,
              "#f0f921"
             ]
            ],
            "type": "surface"
           }
          ],
          "table": [
           {
            "cells": {
             "fill": {
              "color": "#EBF0F8"
             },
             "line": {
              "color": "white"
             }
            },
            "header": {
             "fill": {
              "color": "#C8D4E3"
             },
             "line": {
              "color": "white"
             }
            },
            "type": "table"
           }
          ]
         },
         "layout": {
          "annotationdefaults": {
           "arrowcolor": "#2a3f5f",
           "arrowhead": 0,
           "arrowwidth": 1
          },
          "autotypenumbers": "strict",
          "coloraxis": {
           "colorbar": {
            "outlinewidth": 0,
            "ticks": ""
           }
          },
          "colorscale": {
           "diverging": [
            [
             0,
             "#8e0152"
            ],
            [
             0.1,
             "#c51b7d"
            ],
            [
             0.2,
             "#de77ae"
            ],
            [
             0.3,
             "#f1b6da"
            ],
            [
             0.4,
             "#fde0ef"
            ],
            [
             0.5,
             "#f7f7f7"
            ],
            [
             0.6,
             "#e6f5d0"
            ],
            [
             0.7,
             "#b8e186"
            ],
            [
             0.8,
             "#7fbc41"
            ],
            [
             0.9,
             "#4d9221"
            ],
            [
             1,
             "#276419"
            ]
           ],
           "sequential": [
            [
             0,
             "#0d0887"
            ],
            [
             0.1111111111111111,
             "#46039f"
            ],
            [
             0.2222222222222222,
             "#7201a8"
            ],
            [
             0.3333333333333333,
             "#9c179e"
            ],
            [
             0.4444444444444444,
             "#bd3786"
            ],
            [
             0.5555555555555556,
             "#d8576b"
            ],
            [
             0.6666666666666666,
             "#ed7953"
            ],
            [
             0.7777777777777778,
             "#fb9f3a"
            ],
            [
             0.8888888888888888,
             "#fdca26"
            ],
            [
             1,
             "#f0f921"
            ]
           ],
           "sequentialminus": [
            [
             0,
             "#0d0887"
            ],
            [
             0.1111111111111111,
             "#46039f"
            ],
            [
             0.2222222222222222,
             "#7201a8"
            ],
            [
             0.3333333333333333,
             "#9c179e"
            ],
            [
             0.4444444444444444,
             "#bd3786"
            ],
            [
             0.5555555555555556,
             "#d8576b"
            ],
            [
             0.6666666666666666,
             "#ed7953"
            ],
            [
             0.7777777777777778,
             "#fb9f3a"
            ],
            [
             0.8888888888888888,
             "#fdca26"
            ],
            [
             1,
             "#f0f921"
            ]
           ]
          },
          "colorway": [
           "#636efa",
           "#EF553B",
           "#00cc96",
           "#ab63fa",
           "#FFA15A",
           "#19d3f3",
           "#FF6692",
           "#B6E880",
           "#FF97FF",
           "#FECB52"
          ],
          "font": {
           "color": "#2a3f5f"
          },
          "geo": {
           "bgcolor": "white",
           "lakecolor": "white",
           "landcolor": "#E5ECF6",
           "showlakes": true,
           "showland": true,
           "subunitcolor": "white"
          },
          "hoverlabel": {
           "align": "left"
          },
          "hovermode": "closest",
          "mapbox": {
           "style": "light"
          },
          "paper_bgcolor": "white",
          "plot_bgcolor": "#E5ECF6",
          "polar": {
           "angularaxis": {
            "gridcolor": "white",
            "linecolor": "white",
            "ticks": ""
           },
           "bgcolor": "#E5ECF6",
           "radialaxis": {
            "gridcolor": "white",
            "linecolor": "white",
            "ticks": ""
           }
          },
          "scene": {
           "xaxis": {
            "backgroundcolor": "#E5ECF6",
            "gridcolor": "white",
            "gridwidth": 2,
            "linecolor": "white",
            "showbackground": true,
            "ticks": "",
            "zerolinecolor": "white"
           },
           "yaxis": {
            "backgroundcolor": "#E5ECF6",
            "gridcolor": "white",
            "gridwidth": 2,
            "linecolor": "white",
            "showbackground": true,
            "ticks": "",
            "zerolinecolor": "white"
           },
           "zaxis": {
            "backgroundcolor": "#E5ECF6",
            "gridcolor": "white",
            "gridwidth": 2,
            "linecolor": "white",
            "showbackground": true,
            "ticks": "",
            "zerolinecolor": "white"
           }
          },
          "shapedefaults": {
           "line": {
            "color": "#2a3f5f"
           }
          },
          "ternary": {
           "aaxis": {
            "gridcolor": "white",
            "linecolor": "white",
            "ticks": ""
           },
           "baxis": {
            "gridcolor": "white",
            "linecolor": "white",
            "ticks": ""
           },
           "bgcolor": "#E5ECF6",
           "caxis": {
            "gridcolor": "white",
            "linecolor": "white",
            "ticks": ""
           }
          },
          "title": {
           "x": 0.05
          },
          "xaxis": {
           "automargin": true,
           "gridcolor": "white",
           "linecolor": "white",
           "ticks": "",
           "title": {
            "standoff": 15
           },
           "zerolinecolor": "white",
           "zerolinewidth": 2
          },
          "yaxis": {
           "automargin": true,
           "gridcolor": "white",
           "linecolor": "white",
           "ticks": "",
           "title": {
            "standoff": 15
           },
           "zerolinecolor": "white",
           "zerolinewidth": 2
          }
         }
        }
       }
      }
     },
     "metadata": {},
     "output_type": "display_data"
    }
   ],
   "source": [
    "import pandas as pd\n",
    "import json\n",
    "import numpy as np\n",
    "import plotly.express as px\n",
    "from urllib.request import urlopen\n",
    "\n",
    "# --- GeoJSON stadsdelen Amsterdam ---\n",
    "GEOJSON_URL = \"https://maps.amsterdam.nl/open_geodata/geojson_lnglat.php?KAARTLAAG=INDELING_STADSDEEL&THEMA=gebiedsindeling\"\n",
    "with urlopen(GEOJSON_URL) as response:\n",
    "    stadsdelen = json.load(response)\n",
    "\n",
    "# --- Sensoren inladen ---\n",
    "df = pd.read_csv(\"sensor-location.xlsx - Sheet1.csv\")\n",
    "df[[\"Lat\", \"Long\"]] = df[\"Lat/Long\"].str.split(\",\", expand=True)\n",
    "df[\"Lat\"] = pd.to_numeric(df[\"Lat\"], errors=\"coerce\")\n",
    "df[\"Long\"] = pd.to_numeric(df[\"Long\"], errors=\"coerce\")\n",
    "\n",
    "# Lege waarden netjes leeg laten zien\n",
    "for col in [\"Breedte\", \"Effectieve  breedte\"]:\n",
    "    if col in df.columns:\n",
    "        df[col] = df[col].fillna(\"\")\n",
    "\n",
    "# --- RANDOM DATA TOEVOEGEN ---\n",
    "rng = np.random.default_rng(42)                 # vaste seed -> reproduceerbaar\n",
    "df[\"Persons\"] = rng.integers(0, 200, size=len(df))  # nieuwe kolom met 0–200 personen\n",
    "\n",
    "# --- Plotten met Plotly ---\n",
    "fig = px.scatter_mapbox(\n",
    "    df,\n",
    "    lat=\"Lat\",\n",
    "    lon=\"Long\",\n",
    "    hover_name=\"Locatienaam\",\n",
    "    hover_data=[\"Objectummer\", \"Breedte\", \"Effectieve  breedte\", \"Persons\"], \n",
    "    size=\"Persons\",        # grootte bol = aantal personen\n",
    "    size_max=40,           # max diameter in pixels\n",
    "    color=\"Persons\",       # kleur ook op basis van Persons\n",
    "    color_continuous_scale=\"Reds\",  # rood = meer mensen\n",
    "    zoom=10,\n",
    "    center={\"lat\": 52.37, \"lon\": 4.90},\n",
    "    height=700\n",
    ")\n",
    "\n",
    "fig.update_layout(\n",
    "    mapbox_style=\"carto-positron\",\n",
    "    mapbox_zoom=10,\n",
    "    mapbox_center={\"lat\": 52.37, \"lon\": 4.90},\n",
    "    margin={\"r\":0,\"t\":0,\"l\":0,\"b\":0}\n",
    ")\n",
    "\n",
    "fig.show()\n"
   ]
  }
 ],
 "metadata": {
  "kernelspec": {
   "display_name": "TIL6022-25",
   "language": "python",
   "name": "python3"
  },
  "language_info": {
   "codemirror_mode": {
    "name": "ipython",
    "version": 3
   },
   "file_extension": ".py",
   "mimetype": "text/x-python",
   "name": "python",
   "nbconvert_exporter": "python",
   "pygments_lexer": "ipython3",
   "version": "3.13.7"
  }
 },
 "nbformat": 4,
 "nbformat_minor": 5
}
