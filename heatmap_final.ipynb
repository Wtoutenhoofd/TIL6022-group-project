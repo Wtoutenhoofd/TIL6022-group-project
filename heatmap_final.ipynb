{
 "cells": [
  {
   "cell_type": "code",
   "execution_count": null,
   "id": "78b8ecc2",
   "metadata": {},
   "outputs": [],
   "source": [
    "import pandas as pd\n",
    "import json\n",
    "import numpy as np\n",
    "import plotly.express as px\n",
    "from urllib.request import urlopen\n",
    "\n",
    "#GeoJSON stadsdelen Amsterdam\n",
    "GEOJSON_URL = \"https://maps.amsterdam.nl/open_geodata/geojson_lnglat.php?KAARTLAAG=INDELING_STADSDEEL&THEMA=gebiedsindeling\"\n",
    "with urlopen(GEOJSON_URL) as response:\n",
    "    stadsdelen = json.load(response)\n",
    "\n",
    "#Get Sensors from data\n",
    "df = pd.read_csv(\"sensor-location.xlsx - Sheet1.csv\")\n",
    "df[[\"Lat\", \"Long\"]] = df[\"Lat/Long\"].str.split(\",\", expand=True)\n",
    "df[\"Lat\"]  = pd.to_numeric(df[\"Lat\"],  errors=\"coerce\")\n",
    "df[\"Long\"] = pd.to_numeric(df[\"Long\"], errors=\"coerce\")\n",
    "\n",
    "#Some sensors don't have \"Breedte\", so it gives \"Effectieve breedte\"\n",
    "for col in [\"Breedte\", \"Effectieve  breedte\"]:\n",
    "    if col in df.columns:\n",
    "        df[col] = df[col].fillna(\"Effectieve breedte\")\n",
    "\n",
    "#Replace random data with actual data from sensors\n",
    "df[\"Persons\"] =\n",
    "\n",
    "#HEATMAP\n",
    "fig = px.density_mapbox(\n",
    "    df,\n",
    "    lat=\"Lat\",\n",
    "    lon=\"Long\",\n",
    "    z=\"Persons\",                     # gewicht: meer persons = hogere intensiteit\n",
    "    radius=60,                       # straal in meters (speel hiermee!)\n",
    "    center={\"lat\": 52.372, \"lon\": 4.900},\n",
    "    zoom=10,\n",
    "    color_continuous_scale=\"YlOrRd\", # geel→rood\n",
    "    opacity=0.7,\n",
    "    height=700\n",
    ")\n",
    "\n",
    "fig.update_layout(\n",
    "    mapbox_style=\"carto-positron\",   # of \"open-street-map\" als je geen token hebt\n",
    "    margin={\"r\":0,\"t\":0,\"l\":0,\"b\":0}\n",
    ")\n",
    "\n",
    "fig.show()\n"
   ]
  }
 ],
 "metadata": {
  "kernelspec": {
   "display_name": "TIL6022-25",
   "language": "python",
   "name": "python3"
  },
  "language_info": {
   "name": "python",
   "version": "3.13.7"
  }
 },
 "nbformat": 4,
 "nbformat_minor": 5
}
